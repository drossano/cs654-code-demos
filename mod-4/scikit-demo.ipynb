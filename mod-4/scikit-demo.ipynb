{
 "cells": [
  {
   "cell_type": "code",
   "execution_count": 41,
   "id": "e7cc1e23",
   "metadata": {},
   "outputs": [],
   "source": [
    "points = [[52, 28],[25, 95], [36, 64],[20, 94],[52, 27],[20, 96],[39, 65],[34, 90],[75, 15],\n",
    "[74, 21],\n",
    "[90, 43],\n",
    "[60, 12],\n",
    "[67, 20],\n",
    "[30, 92],\n",
    "[61, 31],\n",
    "[8, 74],\n",
    "[51, 32],\n",
    "[64, 41], [15, 80], [9, 80]]\n"
   ]
  },
  {
   "cell_type": "code",
   "execution_count": 42,
   "id": "95d1c7ca",
   "metadata": {},
   "outputs": [],
   "source": [
    "def get_X(P):\n",
    "    r = []\n",
    "    for x in P:\n",
    "        r.append(x[0])\n",
    "    return r\n",
    "def get_Y(P):\n",
    "    r = []\n",
    "    for x in P:\n",
    "        r.append(x[1])\n",
    "    return r"
   ]
  },
  {
   "cell_type": "code",
   "execution_count": 43,
   "id": "19db607e",
   "metadata": {},
   "outputs": [
    {
     "data": {
      "text/plain": [
       "<matplotlib.collections.PathCollection at 0x7fbec06851f0>"
      ]
     },
     "execution_count": 43,
     "metadata": {},
     "output_type": "execute_result"
    },
    {
     "data": {
      "image/png": "[encoded data removed]",
      "text/plain": [
       "<Figure size 640x480 with 1 Axes>"
      ]
     },
     "metadata": {},
     "output_type": "display_data"
    }
   ],
   "source": [
    "import matplotlib.pyplot as plot\n",
    "%matplotlib inline\n",
    "plot.ylim([0, 105])\n",
    "plot.xlim([0,105])\n",
    "X = get_X(points)\n",
    "Y = get_Y(points)\n",
    "plot.scatter(X, Y)"
   ]
  },
  {
   "cell_type": "code",
   "execution_count": 44,
   "id": "8e5f77b5",
   "metadata": {},
   "outputs": [],
   "source": [
    "from sklearn.cluster import KMeans"
   ]
  },
  {
   "cell_type": "code",
   "execution_count": 45,
   "id": "c5ce43b3",
   "metadata": {},
   "outputs": [],
   "source": [
    "import numpy as np"
   ]
  },
  {
   "cell_type": "code",
   "execution_count": 46,
   "id": "09ed02ef",
   "metadata": {},
   "outputs": [],
   "source": [
    "X = np.array(points)"
   ]
  },
  {
   "cell_type": "code",
   "execution_count": 47,
   "id": "c0e37827",
   "metadata": {},
   "outputs": [],
   "source": [
    "kmeans = KMeans(n_clusters=2, random_state=0).fit(X)"
   ]
  },
  {
   "cell_type": "code",
   "execution_count": 48,
   "id": "31ceed6d",
   "metadata": {},
   "outputs": [
    {
     "data": {
      "text/plain": [
       "array([0, 1, 1, 1, 0, 1, 1, 1, 0, 0, 0, 0, 0, 1, 0, 1, 0, 0, 1, 1],\n",
       "      dtype=int32)"
      ]
     },
     "execution_count": 48,
     "metadata": {},
     "output_type": "execute_result"
    }
   ],
   "source": [
    "kmeans.labels_"
   ]
  },
  {
   "cell_type": "code",
   "execution_count": 49,
   "id": "14fada85",
   "metadata": {},
   "outputs": [],
   "source": [
    "cluster_labels = list(kmeans.labels_)"
   ]
  },
  {
   "cell_type": "code",
   "execution_count": 50,
   "id": "da9642c7",
   "metadata": {},
   "outputs": [],
   "source": [
    "cluster_1_points_index = []\n",
    "cluster_2_points_index = []\n",
    "for i in range(len(cluster_labels)):\n",
    "    if cluster_labels[i] == 0:\n",
    "        cluster_1_points_index.append(i)\n",
    "    elif cluster_labels[i] == 1:\n",
    "        cluster_2_points_index.append(i)\n",
    "    else:\n",
    "        print(\"Something went wrong\")\n",
    "        break"
   ]
  },
  {
   "cell_type": "code",
   "execution_count": 51,
   "id": "7d7d0d53",
   "metadata": {},
   "outputs": [
    {
     "data": {
      "text/plain": [
       "[0, 4, 8, 9, 10, 11, 12, 14, 16, 17]"
      ]
     },
     "execution_count": 51,
     "metadata": {},
     "output_type": "execute_result"
    }
   ],
   "source": [
    "cluster_1_points_index\n"
   ]
  },
  {
   "cell_type": "code",
   "execution_count": 52,
   "id": "2383a582",
   "metadata": {},
   "outputs": [
    {
     "data": {
      "text/plain": [
       "[1, 2, 3, 5, 6, 7, 13, 15, 18, 19]"
      ]
     },
     "execution_count": 52,
     "metadata": {},
     "output_type": "execute_result"
    }
   ],
   "source": [
    "cluster_2_points_index\n"
   ]
  },
  {
   "cell_type": "code",
   "execution_count": 53,
   "id": "50a2ffa9",
   "metadata": {},
   "outputs": [],
   "source": [
    "cluster_1_points = []\n",
    "for x in cluster_1_points_index:\n",
    "    cluster_1_points.append(points[x])"
   ]
  },
  {
   "cell_type": "code",
   "execution_count": 56,
   "id": "5eca2957",
   "metadata": {},
   "outputs": [],
   "source": [
    "cluster_2_points = []\n",
    "for x in cluster_2_points_index:\n",
    "    cluster_2_points.append(points[x])"
   ]
  },
  {
   "cell_type": "code",
   "execution_count": 57,
   "id": "1767b6ca",
   "metadata": {},
   "outputs": [
    {
     "data": {
      "text/plain": [
       "<matplotlib.collections.PathCollection at 0x7fbec054eba0>"
      ]
     },
     "execution_count": 57,
     "metadata": {},
     "output_type": "execute_result"
    },
    {
     "data": {
      "image/png": "[encoded data removed]",
      "text/plain": [
       "<Figure size 640x480 with 1 Axes>"
      ]
     },
     "metadata": {},
     "output_type": "display_data"
    }
   ],
   "source": [
    "\n",
    "\n",
    "X=get_X(cluster_1_points)\n",
    "Y=get_Y(cluster_1_points)\n",
    "\n",
    "plot.ylim([0, 105])\n",
    "plot.xlim([0,105])\n",
    "plot.scatter(X, Y, color = \"green\")\n",
    "\n",
    "X=get_X(cluster_2_points)\n",
    "Y=get_Y(cluster_2_points)\n",
    "\n",
    "plot.ylim([0, 105])\n",
    "plot.xlim([0,105])\n",
    "plot.scatter(X, Y, color = \"red\")\n"
   ]
  },
  {
   "cell_type": "code",
   "execution_count": 58,
   "id": "a943668d",
   "metadata": {},
   "outputs": [
    {
     "name": "stdout",
     "output_type": "stream",
     "text": [
      "[[64.6 27. ]\n",
      " [23.6 83. ]]\n"
     ]
    }
   ],
   "source": [
    "print(kmeans.cluster_centers_)"
   ]
  },
  {
   "cell_type": "code",
   "execution_count": 60,
   "id": "5434d93b",
   "metadata": {},
   "outputs": [
    {
     "name": "stdout",
     "output_type": "stream",
     "text": [
      "4778.8\n"
     ]
    }
   ],
   "source": [
    "sse = kmeans.inertia_\n",
    "print(sse)"
   ]
  }
 ],
 "metadata": {
  "kernelspec": {
   "display_name": "Python 3",
   "language": "python",
   "name": "python3"
  },
  "language_info": {
   "codemirror_mode": {
    "name": "ipython",
    "version": 3
   },
   "file_extension": ".py",
   "mimetype": "text/x-python",
   "name": "python",
   "nbconvert_exporter": "python",
   "pygments_lexer": "ipython3",
   "version": "3.12.10"
  }
 },
 "nbformat": 4,
 "nbformat_minor": 5
}
