{
 "cells": [
  {
   "cell_type": "code",
   "execution_count": 1,
   "id": "987c46a1",
   "metadata": {},
   "outputs": [],
   "source": [
    "# There are 20 points as training data\n",
    "training_data_points = [[52, 28],[25, 95], [36, 64],[20, 94],[52, 27],[20, 96],[39, 65],[34, 90],[75, 15],\n",
    "[74, 21],\n",
    "[90, 43],\n",
    "[60, 12],\n",
    "[67, 20],\n",
    "[30, 92],\n",
    "[61, 31],\n",
    "[8, 74],\n",
    "[51, 32],\n",
    "[64, 41], [15, 80], [9, 80]]\n"
   ]
  },
  {
   "cell_type": "code",
   "execution_count": 2,
   "id": "8d7d225f",
   "metadata": {},
   "outputs": [],
   "source": [
    "# class labels associated with training data\n",
    "training_data_labels=['A','A','A','A','A','A','A','A','A','A','B','B','B','B','B','B','B','B','B','B']"
   ]
  },
  {
   "cell_type": "code",
   "execution_count": 3,
   "id": "10c62100",
   "metadata": {},
   "outputs": [],
   "source": [
    "from sklearn.neighbors import (KNeighborsClassifier)"
   ]
  },
  {
   "cell_type": "code",
   "execution_count": null,
   "id": "f69eb859",
   "metadata": {},
   "outputs": [],
   "source": []
  }
 ],
 "metadata": {
  "kernelspec": {
   "display_name": "Python 3",
   "language": "python",
   "name": "python3"
  },
  "language_info": {
   "codemirror_mode": {
    "name": "ipython",
    "version": 3
   },
   "file_extension": ".py",
   "mimetype": "text/x-python",
   "name": "python",
   "nbconvert_exporter": "python",
   "pygments_lexer": "ipython3",
   "version": "3.12.10"
  }
 },
 "nbformat": 4,
 "nbformat_minor": 5
}
