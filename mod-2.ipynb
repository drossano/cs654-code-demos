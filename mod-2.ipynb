{
 "cells": [
  {
   "cell_type": "code",
   "execution_count": null,
   "id": "e1b7dfc3",
   "metadata": {},
   "outputs": [],
   "source": [
    "import pandas as pd"
   ]
  },
  {
   "cell_type": "code",
   "execution_count": null,
   "id": "0c17ab67",
   "metadata": {},
   "outputs": [],
   "source": [
    "df = pd.read_csv(\"tshirts_header.csv\")"
   ]
  },
  {
   "cell_type": "code",
   "execution_count": 3,
   "id": "a11a1221",
   "metadata": {},
   "outputs": [
    {
     "data": {
      "text/html": [
       "<div>\n",
       "<style scoped>\n",
       "    .dataframe tbody tr th:only-of-type {\n",
       "        vertical-align: middle;\n",
       "    }\n",
       "\n",
       "    .dataframe tbody tr th {\n",
       "        vertical-align: top;\n",
       "    }\n",
       "\n",
       "    .dataframe thead th {\n",
       "        text-align: right;\n",
       "    }\n",
       "</style>\n",
       "<table border=\"1\" class=\"dataframe\">\n",
       "  <thead>\n",
       "    <tr style=\"text-align: right;\">\n",
       "      <th></th>\n",
       "      <th>Height</th>\n",
       "      <th>Weight</th>\n",
       "      <th>Color</th>\n",
       "      <th>Size</th>\n",
       "    </tr>\n",
       "  </thead>\n",
       "  <tbody>\n",
       "    <tr>\n",
       "      <th>0</th>\n",
       "      <td>6.1</td>\n",
       "      <td>225</td>\n",
       "      <td>yellow</td>\n",
       "      <td>large</td>\n",
       "    </tr>\n",
       "    <tr>\n",
       "      <th>1</th>\n",
       "      <td>5.5</td>\n",
       "      <td>150</td>\n",
       "      <td>red</td>\n",
       "      <td>medium</td>\n",
       "    </tr>\n",
       "    <tr>\n",
       "      <th>2</th>\n",
       "      <td>5.2</td>\n",
       "      <td>175</td>\n",
       "      <td>white</td>\n",
       "      <td>small</td>\n",
       "    </tr>\n",
       "  </tbody>\n",
       "</table>\n",
       "</div>"
      ],
      "text/plain": [
       "   Height  Weight   Color    Size\n",
       "0     6.1     225  yellow   large\n",
       "1     5.5     150     red  medium\n",
       "2     5.2     175   white   small"
      ]
     },
     "execution_count": 3,
     "metadata": {},
     "output_type": "execute_result"
    }
   ],
   "source": [
    "df"
   ]
  },
  {
   "cell_type": "code",
   "execution_count": 5,
   "id": "38bd2c6e",
   "metadata": {},
   "outputs": [
    {
     "data": {
      "text/plain": [
       "[6.1, 5.5, 5.2]"
      ]
     },
     "execution_count": 5,
     "metadata": {},
     "output_type": "execute_result"
    }
   ],
   "source": [
    "df['Height'].to_list()"
   ]
  },
  {
   "cell_type": "code",
   "execution_count": 6,
   "id": "083b2769",
   "metadata": {},
   "outputs": [],
   "source": [
    "heights = df['Height'].to_list()"
   ]
  },
  {
   "cell_type": "code",
   "execution_count": 7,
   "id": "435937ab",
   "metadata": {},
   "outputs": [
    {
     "data": {
      "text/plain": [
       "{'Height': {0: 6.1, 1: 5.5, 2: 5.2},\n",
       " 'Weight': {0: 225, 1: 150, 2: 175},\n",
       " 'Color': {0: 'yellow', 1: 'red', 2: 'white'},\n",
       " 'Size': {0: 'large', 1: 'medium', 2: 'small'}}"
      ]
     },
     "execution_count": 7,
     "metadata": {},
     "output_type": "execute_result"
    }
   ],
   "source": [
    "df.to_dict()"
   ]
  },
  {
   "cell_type": "code",
   "execution_count": 8,
   "id": "07e6380e",
   "metadata": {},
   "outputs": [
    {
     "data": {
      "text/plain": [
       "[{'Height': 6.1, 'Weight': 225, 'Color': 'yellow', 'Size': 'large'},\n",
       " {'Height': 5.5, 'Weight': 150, 'Color': 'red', 'Size': 'medium'},\n",
       " {'Height': 5.2, 'Weight': 175, 'Color': 'white', 'Size': 'small'}]"
      ]
     },
     "execution_count": 8,
     "metadata": {},
     "output_type": "execute_result"
    }
   ],
   "source": [
    "df.to_dict('records')"
   ]
  },
  {
   "cell_type": "code",
   "execution_count": 9,
   "id": "849fa6a9",
   "metadata": {},
   "outputs": [
    {
     "data": {
      "text/plain": [
       "{'Height': [6.1, 5.5, 5.2],\n",
       " 'Weight': [225, 150, 175],\n",
       " 'Color': ['yellow', 'red', 'white'],\n",
       " 'Size': ['large', 'medium', 'small']}"
      ]
     },
     "execution_count": 9,
     "metadata": {},
     "output_type": "execute_result"
    }
   ],
   "source": [
    "df.to_dict('list')"
   ]
  },
  {
   "cell_type": "code",
   "execution_count": 16,
   "id": "17ad81e1",
   "metadata": {},
   "outputs": [],
   "source": [
    "fin = open('courses.txt', \"r\")"
   ]
  },
  {
   "cell_type": "code",
   "execution_count": 17,
   "id": "525f5f3b",
   "metadata": {},
   "outputs": [],
   "source": [
    "courses_raw = []\n",
    "for i in fin:\n",
    "    courses_raw.append(i)\n",
    "fin.close()    "
   ]
  },
  {
   "cell_type": "code",
   "execution_count": 18,
   "id": "e4679fc9",
   "metadata": {},
   "outputs": [
    {
     "name": "stdout",
     "output_type": "stream",
     "text": [
      "['CS120, CS121, CS495, CS230\\n', 'CS230, CS418, CS455\\n', 'CS455, CS421, CS103']\n"
     ]
    }
   ],
   "source": [
    "print(courses_raw)"
   ]
  },
  {
   "cell_type": "code",
   "execution_count": 19,
   "id": "7dec2f24",
   "metadata": {},
   "outputs": [
    {
     "data": {
      "text/plain": [
       "[['CS120', 'CS121', 'CS495', 'CS230'],\n",
       " ['CS230', 'CS418', 'CS455'],\n",
       " ['CS455', 'CS421', 'CS103']]"
      ]
     },
     "execution_count": 19,
     "metadata": {},
     "output_type": "execute_result"
    }
   ],
   "source": [
    "courses_entries = []\n",
    "for l in courses_raw:\n",
    "    raw = l.strip().split(\",\")\n",
    "    course_list = []\n",
    "    for x in raw:\n",
    "        course_list.append(x.strip())\n",
    "    courses_entries.append(course_list)\n",
    "courses_entries"
   ]
  },
  {
   "cell_type": "code",
   "execution_count": 21,
   "id": "3a24800f",
   "metadata": {},
   "outputs": [
    {
     "data": {
      "text/plain": [
       "['CS455', 'CS421', 'CS121', 'CS418', 'CS230', 'CS495', 'CS120', 'CS103']"
      ]
     },
     "execution_count": 21,
     "metadata": {},
     "output_type": "execute_result"
    }
   ],
   "source": [
    "unique_courses = []\n",
    "for course_list in courses_entries:\n",
    "    for course in course_list:\n",
    "        unique_courses.append(course)\n",
    "unique_courses = list(set(unique_courses))\n",
    "unique_courses\n"
   ]
  },
  {
   "cell_type": "code",
   "execution_count": 23,
   "id": "16e41598",
   "metadata": {},
   "outputs": [
    {
     "data": {
      "text/plain": [
       "['CS103', 'CS120', 'CS121', 'CS230', 'CS418', 'CS421', 'CS455', 'CS495']"
      ]
     },
     "execution_count": 23,
     "metadata": {},
     "output_type": "execute_result"
    }
   ],
   "source": [
    "unique_courses.sort()\n",
    "unique_courses"
   ]
  },
  {
   "cell_type": "code",
   "execution_count": 25,
   "id": "6ae73451",
   "metadata": {},
   "outputs": [
    {
     "data": {
      "text/plain": [
       "[[0, 1, 1, 1, 0, 0, 0, 1], [0, 0, 0, 1, 1, 0, 1, 0], [1, 0, 0, 0, 0, 1, 1, 0]]"
      ]
     },
     "execution_count": 25,
     "metadata": {},
     "output_type": "execute_result"
    }
   ],
   "source": [
    "final_table = []\n",
    "for i in range(len(courses_entries)):\n",
    "    result = []\n",
    "    for name in unique_courses:\n",
    "        if name in courses_entries[i]:\n",
    "            result.append(1)\n",
    "        else:\n",
    "            result.append(0)\n",
    "    final_table.append(result)\n",
    "final_table"
   ]
  },
  {
   "cell_type": "code",
   "execution_count": 28,
   "id": "5f44f5d0",
   "metadata": {},
   "outputs": [
    {
     "data": {
      "text/html": [
       "<div>\n",
       "<style scoped>\n",
       "    .dataframe tbody tr th:only-of-type {\n",
       "        vertical-align: middle;\n",
       "    }\n",
       "\n",
       "    .dataframe tbody tr th {\n",
       "        vertical-align: top;\n",
       "    }\n",
       "\n",
       "    .dataframe thead th {\n",
       "        text-align: right;\n",
       "    }\n",
       "</style>\n",
       "<table border=\"1\" class=\"dataframe\">\n",
       "  <thead>\n",
       "    <tr style=\"text-align: right;\">\n",
       "      <th></th>\n",
       "      <th>CS103</th>\n",
       "      <th>CS120</th>\n",
       "      <th>CS121</th>\n",
       "      <th>CS230</th>\n",
       "      <th>CS418</th>\n",
       "      <th>CS421</th>\n",
       "      <th>CS455</th>\n",
       "      <th>CS495</th>\n",
       "    </tr>\n",
       "  </thead>\n",
       "  <tbody>\n",
       "    <tr>\n",
       "      <th>John</th>\n",
       "      <td>0</td>\n",
       "      <td>1</td>\n",
       "      <td>1</td>\n",
       "      <td>1</td>\n",
       "      <td>0</td>\n",
       "      <td>0</td>\n",
       "      <td>0</td>\n",
       "      <td>1</td>\n",
       "    </tr>\n",
       "    <tr>\n",
       "      <th>Mary</th>\n",
       "      <td>0</td>\n",
       "      <td>0</td>\n",
       "      <td>0</td>\n",
       "      <td>1</td>\n",
       "      <td>1</td>\n",
       "      <td>0</td>\n",
       "      <td>1</td>\n",
       "      <td>0</td>\n",
       "    </tr>\n",
       "    <tr>\n",
       "      <th>Tom</th>\n",
       "      <td>1</td>\n",
       "      <td>0</td>\n",
       "      <td>0</td>\n",
       "      <td>0</td>\n",
       "      <td>0</td>\n",
       "      <td>1</td>\n",
       "      <td>1</td>\n",
       "      <td>0</td>\n",
       "    </tr>\n",
       "  </tbody>\n",
       "</table>\n",
       "</div>"
      ],
      "text/plain": [
       "      CS103  CS120  CS121  CS230  CS418  CS421  CS455  CS495\n",
       "John      0      1      1      1      0      0      0      1\n",
       "Mary      0      0      0      1      1      0      1      0\n",
       "Tom       1      0      0      0      0      1      1      0"
      ]
     },
     "execution_count": 28,
     "metadata": {},
     "output_type": "execute_result"
    }
   ],
   "source": [
    "df_test = pd.DataFrame(final_table, columns=unique_courses, index=['John', 'Mary', 'Tom'])\n",
    "df_test"
   ]
  }
 ],
 "metadata": {
  "kernelspec": {
   "display_name": "Python 3",
   "language": "python",
   "name": "python3"
  },
  "language_info": {
   "codemirror_mode": {
    "name": "ipython",
    "version": 3
   },
   "file_extension": ".py",
   "mimetype": "text/x-python",
   "name": "python",
   "nbconvert_exporter": "python",
   "pygments_lexer": "ipython3",
   "version": "3.12.10"
  }
 },
 "nbformat": 4,
 "nbformat_minor": 5
}
