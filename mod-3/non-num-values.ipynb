{
 "cells": [
  {
   "cell_type": "code",
   "execution_count": 1,
   "id": "1232aacc",
   "metadata": {},
   "outputs": [],
   "source": [
    "\n",
    "l_s = [\"red\", \"blue\", \"green\", \"green\", \"blue\", \"red\", \"yellow\", \"purple\", \"gray\", \"blue\"]\n",
    "\n"
   ]
  },
  {
   "cell_type": "code",
   "execution_count": null,
   "id": "ad12bca8",
   "metadata": {},
   "outputs": [],
   "source": [
    "def get_cat_dist_matrix(list):\n",
    "    distance_matrix = []\n",
    "    for i in range(len(l_s)):\n",
    "        distance_row = []\n",
    "        for j in range(len(l_s)):\n",
    "            if l_s[i] == l_s[j]:\n",
    "                distance = 0\n",
    "            else:\n",
    "                distance = 1\n",
    "            distance_row.append(distance)\n",
    "        distance_matrix.append(distance_row)\n",
    "    return distance_matrix"
   ]
  },
  {
   "cell_type": "code",
   "execution_count": 4,
   "id": "b78a62f5",
   "metadata": {},
   "outputs": [
    {
     "data": {
      "text/plain": [
       "[[0, 1, 1, 1, 1, 0, 1, 1, 1, 1],\n",
       " [1, 0, 1, 1, 0, 1, 1, 1, 1, 0],\n",
       " [1, 1, 0, 0, 1, 1, 1, 1, 1, 1],\n",
       " [1, 1, 0, 0, 1, 1, 1, 1, 1, 1],\n",
       " [1, 0, 1, 1, 0, 1, 1, 1, 1, 0],\n",
       " [0, 1, 1, 1, 1, 0, 1, 1, 1, 1],\n",
       " [1, 1, 1, 1, 1, 1, 0, 1, 1, 1],\n",
       " [1, 1, 1, 1, 1, 1, 1, 0, 1, 1],\n",
       " [1, 1, 1, 1, 1, 1, 1, 1, 0, 1],\n",
       " [1, 0, 1, 1, 0, 1, 1, 1, 1, 0]]"
      ]
     },
     "execution_count": 4,
     "metadata": {},
     "output_type": "execute_result"
    }
   ],
   "source": [
    "distance_matrix"
   ]
  },
  {
   "cell_type": "code",
   "execution_count": 6,
   "id": "d3a5b614",
   "metadata": {},
   "outputs": [],
   "source": [
    "def get_sim(matrix, i,j):\n",
    "    return 1 - matrix[i][j]\n",
    "\n",
    "similarity_matrix = []\n",
    "for i in range(len(l_s)):\n",
    "    similarity_row = []\n",
    "    for j in range(len(l_s)):\n",
    "        similarity_row.append(round(get_sim(distance_matrix,i,j), 2))\n",
    "    similarity_matrix.append(similarity_row)"
   ]
  },
  {
   "cell_type": "code",
   "execution_count": 7,
   "id": "fdeda0e5",
   "metadata": {},
   "outputs": [
    {
     "data": {
      "text/plain": [
       "[[1, 0, 0, 0, 0, 1, 0, 0, 0, 0],\n",
       " [0, 1, 0, 0, 1, 0, 0, 0, 0, 1],\n",
       " [0, 0, 1, 1, 0, 0, 0, 0, 0, 0],\n",
       " [0, 0, 1, 1, 0, 0, 0, 0, 0, 0],\n",
       " [0, 1, 0, 0, 1, 0, 0, 0, 0, 1],\n",
       " [1, 0, 0, 0, 0, 1, 0, 0, 0, 0],\n",
       " [0, 0, 0, 0, 0, 0, 1, 0, 0, 0],\n",
       " [0, 0, 0, 0, 0, 0, 0, 1, 0, 0],\n",
       " [0, 0, 0, 0, 0, 0, 0, 0, 1, 0],\n",
       " [0, 1, 0, 0, 1, 0, 0, 0, 0, 1]]"
      ]
     },
     "execution_count": 7,
     "metadata": {},
     "output_type": "execute_result"
    }
   ],
   "source": [
    "similarity_matrix"
   ]
  },
  {
   "cell_type": "code",
   "execution_count": 9,
   "id": "9ed07860",
   "metadata": {},
   "outputs": [],
   "source": [
    "l_o = ['B', 'A', 'C', 'D', 'A', 'B', 'B', 'C', 'A','A']\n",
    "l_o_ranks = ['A', 'B','C', 'D']"
   ]
  },
  {
   "cell_type": "code",
   "execution_count": 12,
   "id": "baaecd01",
   "metadata": {},
   "outputs": [],
   "source": [
    "import math\n",
    "\n",
    "distance_matrix = []\n",
    "for i in l_o:\n",
    "    distance_row = []\n",
    "    for j in l_o:\n",
    "        distance = round(math.fabs((l_o_ranks.index(i) - l_o_ranks.index(j))/(len(l_o_ranks)- 1)),3)\n",
    "        distance_row.append(distance)\n",
    "    distance_matrix.append(distance_row)"
   ]
  },
  {
   "cell_type": "code",
   "execution_count": 13,
   "id": "378eedca",
   "metadata": {},
   "outputs": [
    {
     "data": {
      "text/plain": [
       "[[0.0, 0.333, 0.333, 0.667, 0.333, 0.0, 0.0, 0.333, 0.333, 0.333],\n",
       " [0.333, 0.0, 0.667, 1.0, 0.0, 0.333, 0.333, 0.667, 0.0, 0.0],\n",
       " [0.333, 0.667, 0.0, 0.333, 0.667, 0.333, 0.333, 0.0, 0.667, 0.667],\n",
       " [0.667, 1.0, 0.333, 0.0, 1.0, 0.667, 0.667, 0.333, 1.0, 1.0],\n",
       " [0.333, 0.0, 0.667, 1.0, 0.0, 0.333, 0.333, 0.667, 0.0, 0.0],\n",
       " [0.0, 0.333, 0.333, 0.667, 0.333, 0.0, 0.0, 0.333, 0.333, 0.333],\n",
       " [0.0, 0.333, 0.333, 0.667, 0.333, 0.0, 0.0, 0.333, 0.333, 0.333],\n",
       " [0.333, 0.667, 0.0, 0.333, 0.667, 0.333, 0.333, 0.0, 0.667, 0.667],\n",
       " [0.333, 0.0, 0.667, 1.0, 0.0, 0.333, 0.333, 0.667, 0.0, 0.0],\n",
       " [0.333, 0.0, 0.667, 1.0, 0.0, 0.333, 0.333, 0.667, 0.0, 0.0]]"
      ]
     },
     "execution_count": 13,
     "metadata": {},
     "output_type": "execute_result"
    }
   ],
   "source": [
    "distance_matrix"
   ]
  }
 ],
 "metadata": {
  "kernelspec": {
   "display_name": "Python 3",
   "language": "python",
   "name": "python3"
  },
  "language_info": {
   "codemirror_mode": {
    "name": "ipython",
    "version": 3
   },
   "file_extension": ".py",
   "mimetype": "text/x-python",
   "name": "python",
   "nbconvert_exporter": "python",
   "pygments_lexer": "ipython3",
   "version": "3.12.10"
  }
 },
 "nbformat": 4,
 "nbformat_minor": 5
}
