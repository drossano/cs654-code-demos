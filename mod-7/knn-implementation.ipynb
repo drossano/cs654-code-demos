{
 "cells": [
  {
   "cell_type": "code",
   "execution_count": 1,
   "id": "a5dbacbe",
   "metadata": {},
   "outputs": [],
   "source": [
    "# Define training data and new data.\n",
    "T = [[6, 9], [4, 6], [8, 7], [4, 4], [6, 2]]\t\t#point 0, point 1, point 2, point 3, point 4\n",
    "labels = [1, 1, 0, 0, 0]\t#use 1 for +, 0 for -\n",
    "p = [6, 6] \t#new data point\n"
   ]
  },
  {
   "cell_type": "code",
   "execution_count": 11,
   "id": "b2d3171a",
   "metadata": {},
   "outputs": [],
   "source": [
    "import math\n",
    "def distance_euclidean(p, q):\n",
    "    return math.sqrt((p[0] - q[0]) ** 2 + (p[1]-q[1]) ** 2 ) "
   ]
  },
  {
   "cell_type": "code",
   "execution_count": 12,
   "id": "c7f43a0f",
   "metadata": {},
   "outputs": [],
   "source": [
    "def get_distances(points, new_point):\n",
    "    distances = []\n",
    "    for point in points:\n",
    "        distances.append(distance_euclidean(new_point, point))\n",
    "    return distances"
   ]
  },
  {
   "cell_type": "code",
   "execution_count": 20,
   "id": "6971709d",
   "metadata": {},
   "outputs": [],
   "source": [
    "def label_distances(labels, distances):\n",
    "    labeled_distances = []\n",
    "    for i in range(len(distances)):\n",
    "        labeled_distance = (distances[i], labels[i])\n",
    "        labeled_distances.append(labeled_distance)\n",
    "    return labeled_distances"
   ]
  },
  {
   "cell_type": "code",
   "execution_count": 33,
   "id": "0dce9ced",
   "metadata": {},
   "outputs": [],
   "source": [
    "def sort_labeled_distances(labeled_distances):\n",
    "    return sorted(labeled_distances,key=lambda distance: distance[0])"
   ]
  },
  {
   "cell_type": "code",
   "execution_count": 37,
   "id": "e56b948a",
   "metadata": {},
   "outputs": [],
   "source": [
    "def knn(points, labels, new_point, k):\n",
    "    distances = get_distances(points, new_point)\n",
    "    labeled_distances = label_distances(labels, distances)\n",
    "    sorted_labeled_distances = sort_labeled_distances(labeled_distances)\n",
    "    votes = {}\n",
    "    for i in range(k):\n",
    "        label = sorted_labeled_distances[i][1]\n",
    "        if label in votes:\n",
    "            votes[label] += 1\n",
    "        else:\n",
    "            votes[label] = 0\n",
    "    return max(votes, key=votes.get)\n",
    "    "
   ]
  },
  {
   "cell_type": "code",
   "execution_count": 35,
   "id": "212b597e",
   "metadata": {},
   "outputs": [
    {
     "name": "stdout",
     "output_type": "stream",
     "text": [
      "1\n"
     ]
    }
   ],
   "source": [
    "print(knn(T, labels, p, 1))"
   ]
  },
  {
   "cell_type": "code",
   "execution_count": 39,
   "id": "8fa2b552",
   "metadata": {},
   "outputs": [
    {
     "name": "stdout",
     "output_type": "stream",
     "text": [
      "0\n"
     ]
    }
   ],
   "source": [
    "print(knn(T, labels, p, 3))"
   ]
  }
 ],
 "metadata": {
  "kernelspec": {
   "display_name": "Python 3",
   "language": "python",
   "name": "python3"
  },
  "language_info": {
   "codemirror_mode": {
    "name": "ipython",
    "version": 3
   },
   "file_extension": ".py",
   "mimetype": "text/x-python",
   "name": "python",
   "nbconvert_exporter": "python",
   "pygments_lexer": "ipython3",
   "version": "3.12.10"
  }
 },
 "nbformat": 4,
 "nbformat_minor": 5
}
