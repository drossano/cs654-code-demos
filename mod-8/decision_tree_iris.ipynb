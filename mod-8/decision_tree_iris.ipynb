{
 "cells": [
  {
   "cell_type": "code",
   "execution_count": 2,
   "id": "3d2ac983",
   "metadata": {},
   "outputs": [],
   "source": [
    "from sklearn import tree"
   ]
  },
  {
   "cell_type": "code",
   "execution_count": 3,
   "id": "01e644bd",
   "metadata": {},
   "outputs": [],
   "source": [
    "#top 20 of iris-versicolor, and top 20 of iris-virginica\n",
    "X = [[7,3.2],\n",
    "[6.4,3.2],\n",
    "[6.9,3.1],\n",
    "[5.5,2.3],\n",
    "[6.5,2.8],\n",
    "[5.7,2.8],\n",
    "[6.3,3.3],\n",
    "[4.9,2.4],\n",
    "[6.6,2.9],\n",
    "[5.2,2.7],\n",
    "[5,2],\n",
    "[5.9,3],\n",
    "[6,2.2],\n",
    "[6.1,2.9],\n",
    "[5.6,2.9],\n",
    "[6.7,3.1],\n",
    "[5.6,3],\n",
    "[5.8,2.7],\n",
    "[6.2,2.2],\n",
    "[5.6,2.5],\n",
    "[6.3,3.3],\n",
    "[5.8,2.7],\n",
    "[7.1,3],\n",
    "[6.3,2.9],\n",
    "[6.5,3],\n",
    "[7.6,3],\n",
    "[4.9,2.5],\n",
    "[7.3,2.9],\n",
    "[6.7,2.5],\n",
    "[7.2,3.6],\n",
    "[6.5,3.2],\n",
    "[6.4,2.7],\n",
    "[6.8,3],\n",
    "[5.7,2.5],\n",
    "[5.8,2.8],\n",
    "[6.4,3.2],\n",
    "[6.5,3],\n",
    "[7.7,3.8],\n",
    "[7.7,2.6],\n",
    "[6,2.2]]"
   ]
  },
  {
   "cell_type": "code",
   "execution_count": 4,
   "id": "fd506877",
   "metadata": {},
   "outputs": [],
   "source": [
    "# 0 for Iris-versicolor, 1 for Iris-verginica\n",
    "Y = [0,0,0,0,0,0,0,0,0,0,0,0,0,0,0,0,0,0,0,0,1,1,1,1,1,1,1,1,1,1,1,1,1,1,1,1,1,1,1,1]\n",
    "\n"
   ]
  },
  {
   "cell_type": "code",
   "execution_count": 5,
   "id": "970154ec",
   "metadata": {},
   "outputs": [],
   "source": [
    "clf = tree.DecisionTreeClassifier()\n",
    "clf = clf.fit(X,Y)"
   ]
  },
  {
   "cell_type": "code",
   "execution_count": 7,
   "id": "ab34caeb",
   "metadata": {},
   "outputs": [
    {
     "data": {
      "text/plain": [
       "array([0])"
      ]
     },
     "execution_count": 7,
     "metadata": {},
     "output_type": "execute_result"
    }
   ],
   "source": [
    "clf.predict([[5.4, 2.2]])"
   ]
  }
 ],
 "metadata": {
  "kernelspec": {
   "display_name": "Python 3",
   "language": "python",
   "name": "python3"
  },
  "language_info": {
   "codemirror_mode": {
    "name": "ipython",
    "version": 3
   },
   "file_extension": ".py",
   "mimetype": "text/x-python",
   "name": "python",
   "nbconvert_exporter": "python",
   "pygments_lexer": "ipython3",
   "version": "3.12.10"
  }
 },
 "nbformat": 4,
 "nbformat_minor": 5
}
