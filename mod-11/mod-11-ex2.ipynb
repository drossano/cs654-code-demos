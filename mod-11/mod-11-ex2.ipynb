{
 "cells": [
  {
   "cell_type": "code",
   "execution_count": 1,
   "id": "8346d538",
   "metadata": {},
   "outputs": [],
   "source": [
    "fin = open('example2.txt')"
   ]
  },
  {
   "cell_type": "code",
   "execution_count": 41,
   "id": "702b5035",
   "metadata": {},
   "outputs": [
    {
     "ename": "ValueError",
     "evalue": "I/O operation on closed file.",
     "output_type": "error",
     "traceback": [
      "\u001b[31m---------------------------------------------------------------------------\u001b[39m",
      "\u001b[31mValueError\u001b[39m                                Traceback (most recent call last)",
      "\u001b[36mCell\u001b[39m\u001b[36m \u001b[39m\u001b[32mIn[41]\u001b[39m\u001b[32m, line 2\u001b[39m\n\u001b[32m      1\u001b[39m \u001b[38;5;66;03m# save the baskets in T\u001b[39;00m\n\u001b[32m----> \u001b[39m\u001b[32m2\u001b[39m \u001b[43mfin\u001b[49m\u001b[43m.\u001b[49m\u001b[43mseek\u001b[49m\u001b[43m(\u001b[49m\u001b[32;43m0\u001b[39;49m\u001b[43m)\u001b[49m\n\u001b[32m      3\u001b[39m transactions=[]\n\u001b[32m      4\u001b[39m \u001b[38;5;28;01mfor\u001b[39;00m x \u001b[38;5;129;01min\u001b[39;00m fin:\n",
      "\u001b[31mValueError\u001b[39m: I/O operation on closed file."
     ]
    }
   ],
   "source": [
    "# save the baskets in T\n",
    "fin.seek(0)\n",
    "transactions=[]\n",
    "for x in fin:\n",
    "    X = x.strip()\n",
    "    Y = X.split(',')\n",
    "    transactions.append(Y)\n",
    "fin.close()"
   ]
  },
  {
   "cell_type": "code",
   "execution_count": 3,
   "id": "dd9514ba",
   "metadata": {},
   "outputs": [
    {
     "data": {
      "text/plain": [
       "[['A', 'C', 'D'], ['B', 'C', 'E'], ['A', 'B', 'C', 'E'], ['B', 'E']]"
      ]
     },
     "execution_count": 3,
     "metadata": {},
     "output_type": "execute_result"
    }
   ],
   "source": [
    "transactions"
   ]
  },
  {
   "cell_type": "code",
   "execution_count": 4,
   "id": "565503d1",
   "metadata": {},
   "outputs": [],
   "source": [
    "def get_unique_items(transaction_list):\n",
    "    unique_items = []\n",
    "    for transaction in transaction_list:\n",
    "        for item in transaction:\n",
    "            if item not in unique_items:\n",
    "                unique_items.append(item)\n",
    "    unique_items.sort()\n",
    "    return unique_items"
   ]
  },
  {
   "cell_type": "code",
   "execution_count": 6,
   "id": "48089737",
   "metadata": {},
   "outputs": [
    {
     "data": {
      "text/plain": [
       "['A', 'B', 'C', 'D', 'E']"
      ]
     },
     "execution_count": 6,
     "metadata": {},
     "output_type": "execute_result"
    }
   ],
   "source": [
    "unique_items = get_unique_items(transactions)\n",
    "unique_items"
   ]
  },
  {
   "cell_type": "code",
   "execution_count": 20,
   "id": "4c1a764f",
   "metadata": {},
   "outputs": [],
   "source": [
    "def generate_item_frequencies(unique_items, transaction_list):\n",
    "    frequencies = {}\n",
    "    for item in unique_items:\n",
    "        count = 0\n",
    "        for transaction in transaction_list:\n",
    "            if item in transaction:\n",
    "                count += 1\n",
    "        frequencies[item] = count\n",
    "    return frequencies\n",
    "        "
   ]
  },
  {
   "cell_type": "code",
   "execution_count": 25,
   "id": "9dd012ce",
   "metadata": {},
   "outputs": [
    {
     "data": {
      "text/plain": [
       "{'A': 2, 'B': 3, 'C': 3, 'D': 1, 'E': 3}"
      ]
     },
     "execution_count": 25,
     "metadata": {},
     "output_type": "execute_result"
    }
   ],
   "source": [
    "freqs = generate_item_frequencies(unique_items,transactions)\n",
    "freqs"
   ]
  },
  {
   "cell_type": "code",
   "execution_count": 22,
   "id": "bea42315",
   "metadata": {},
   "outputs": [],
   "source": [
    "# assume min support threshold is 2; 2/4 = .5\n",
    "min_support = 2\n"
   ]
  },
  {
   "cell_type": "code",
   "execution_count": 26,
   "id": "c3399f30",
   "metadata": {},
   "outputs": [],
   "source": [
    "def generate_L1(frequencies, min_support):\n",
    "    L1 = {}\n",
    "    for k in frequencies.keys():\n",
    "        if frequencies[k] >= min_support:\n",
    "            L1[k] = frequencies[k]\n",
    "    return L1"
   ]
  },
  {
   "cell_type": "code",
   "execution_count": 27,
   "id": "dc9dcdd8",
   "metadata": {},
   "outputs": [],
   "source": [
    "L1 = generate_L1(freqs, min_support)"
   ]
  },
  {
   "cell_type": "code",
   "execution_count": 28,
   "id": "21fab940",
   "metadata": {},
   "outputs": [
    {
     "data": {
      "text/plain": [
       "{'A': 2, 'B': 3, 'C': 3, 'E': 3}"
      ]
     },
     "execution_count": 28,
     "metadata": {},
     "output_type": "execute_result"
    }
   ],
   "source": [
    "L1"
   ]
  },
  {
   "cell_type": "code",
   "execution_count": 29,
   "id": "a32fd46b",
   "metadata": {},
   "outputs": [],
   "source": [
    "def generate_C2_pairs(L1):\n",
    "    pairs = []\n",
    "    keys = list(L1.keys())\n",
    "    for i in range(len(keys) - 1):\n",
    "        for j in range( i + 1, len(keys)):\n",
    "            pair = [keys[i], keys[j]]\n",
    "            pair.sort()\n",
    "            pairs.append(pair)\n",
    "    return pairs"
   ]
  },
  {
   "cell_type": "code",
   "execution_count": 30,
   "id": "02b63a20",
   "metadata": {},
   "outputs": [
    {
     "data": {
      "text/plain": [
       "[['A', 'B'], ['A', 'C'], ['A', 'E'], ['B', 'C'], ['B', 'E'], ['C', 'E']]"
      ]
     },
     "execution_count": 30,
     "metadata": {},
     "output_type": "execute_result"
    }
   ],
   "source": [
    "C2_pairs = generate_C2_pairs(L1)\n",
    "C2_pairs"
   ]
  },
  {
   "cell_type": "code",
   "execution_count": 31,
   "id": "f483d699",
   "metadata": {},
   "outputs": [],
   "source": [
    "def included(transaction, pair):\n",
    "    subset = True\n",
    "    for x in pair:\n",
    "        if x not in transaction:\n",
    "            subset = False\n",
    "    return subset"
   ]
  },
  {
   "cell_type": "code",
   "execution_count": 32,
   "id": "9345b38c",
   "metadata": {},
   "outputs": [],
   "source": [
    "def generate_C2(pairs, transaction_list):\n",
    "    d = {}\n",
    "    for pair in pairs:\n",
    "        count = 0\n",
    "        for transaction in transaction_list:\n",
    "            if included(transaction,pair):\n",
    "                count += 1\n",
    "        d[tuple(pair)] = count\n",
    "    return d"
   ]
  },
  {
   "cell_type": "code",
   "execution_count": 33,
   "id": "fdca19b7",
   "metadata": {},
   "outputs": [
    {
     "data": {
      "text/plain": [
       "{('A', 'B'): 1,\n",
       " ('A', 'C'): 2,\n",
       " ('A', 'E'): 1,\n",
       " ('B', 'C'): 2,\n",
       " ('B', 'E'): 3,\n",
       " ('C', 'E'): 2}"
      ]
     },
     "execution_count": 33,
     "metadata": {},
     "output_type": "execute_result"
    }
   ],
   "source": [
    "C2 = generate_C2(C2_pairs, transactions)\n",
    "C2"
   ]
  },
  {
   "cell_type": "code",
   "execution_count": 34,
   "id": "e1c8c535",
   "metadata": {},
   "outputs": [],
   "source": [
    "# filter out item sets that dont satisfy min support threshold\n",
    "\n",
    "def generate_L2(C2, min_support):\n",
    "    d = C2\n",
    "    L2 = {}\n",
    "    for k in d.keys():\n",
    "        if d[k] >=  min_support:\n",
    "            L2[k] = d[k]\n",
    "    return L2"
   ]
  },
  {
   "cell_type": "code",
   "execution_count": 35,
   "id": "32627f87",
   "metadata": {},
   "outputs": [
    {
     "data": {
      "text/plain": [
       "{('A', 'C'): 2, ('B', 'C'): 2, ('B', 'E'): 3, ('C', 'E'): 2}"
      ]
     },
     "execution_count": 35,
     "metadata": {},
     "output_type": "execute_result"
    }
   ],
   "source": [
    "L2 = generate_L2(C2,min_support)\n",
    "L2"
   ]
  },
  {
   "cell_type": "code",
   "execution_count": 36,
   "id": "137b927d",
   "metadata": {},
   "outputs": [],
   "source": [
    "L1_1 = {}\n",
    "for x in L1.keys():\n",
    "    value = L1[x]\n",
    "    t_i = tuple(x)\n",
    "    L1_1[t_i] = value"
   ]
  },
  {
   "cell_type": "code",
   "execution_count": 37,
   "id": "5ea162c3",
   "metadata": {},
   "outputs": [
    {
     "data": {
      "text/plain": [
       "{('A',): 2, ('B',): 3, ('C',): 3, ('E',): 3}"
      ]
     },
     "execution_count": 37,
     "metadata": {},
     "output_type": "execute_result"
    }
   ],
   "source": [
    "L1_1"
   ]
  },
  {
   "cell_type": "code",
   "execution_count": 39,
   "id": "0de612fa",
   "metadata": {},
   "outputs": [],
   "source": [
    "# This function is to generate rules from the itemsets of two items.\n",
    "def generate_L2_rules(L2, L1_1):\n",
    "    for x in L2.keys():\n",
    "        print(x)\n",
    "        print(x[0] + \" => \" + x[1])\n",
    "        rule = x[0] + \" => \" + x[1]\n",
    "        print(L1_1[tuple(x[0])])\n",
    "        print(L1_1[tuple(x[1])])\n",
    "        print(\"%s ( %d/%d ) %.2f \"%(rule, L2[x],L1_1[tuple(x[0])], float(L2[x])/float(L1_1[tuple(x[0])]) ))\n",
    "        print(round(float(L2[x])/float(L1_1[tuple(x[0])])), 2)\n",
    "        print(\"---\")\n",
    "    for x in L2.keys():\n",
    "        print(x)\n",
    "        print(x[1] + \" => \" + x[0])\n",
    "        rule = x[1] + \" => \" + x[0]\n",
    "        print(L1_1[tuple(x[0])])\n",
    "        print(L1_1[tuple(x[1])])\n",
    "        print(\"%s ( %d/%d ) %.2f \"%(rule, L2[x],L1_1[tuple(x[1])],float(L2[x])/float(L1_1[tuple(x[1])])  ))\n",
    "        print(float(L2[x])/float(L1_1[tuple(x[1])]))\n",
    "        print(\"---\")"
   ]
  },
  {
   "cell_type": "code",
   "execution_count": 40,
   "id": "39104b0b",
   "metadata": {},
   "outputs": [
    {
     "name": "stdout",
     "output_type": "stream",
     "text": [
      "('A', 'C')\n",
      "A => C\n",
      "2\n",
      "3\n",
      "A => C ( 2/2 ) 1.00 \n",
      "1 2\n",
      "---\n",
      "('B', 'C')\n",
      "B => C\n",
      "3\n",
      "3\n",
      "B => C ( 2/3 ) 0.67 \n",
      "1 2\n",
      "---\n",
      "('B', 'E')\n",
      "B => E\n",
      "3\n",
      "3\n",
      "B => E ( 3/3 ) 1.00 \n",
      "1 2\n",
      "---\n",
      "('C', 'E')\n",
      "C => E\n",
      "3\n",
      "3\n",
      "C => E ( 2/3 ) 0.67 \n",
      "1 2\n",
      "---\n",
      "('A', 'C')\n",
      "C => A\n",
      "2\n",
      "3\n",
      "C => A ( 2/3 ) 0.67 \n",
      "0.6666666666666666\n",
      "---\n",
      "('B', 'C')\n",
      "C => B\n",
      "3\n",
      "3\n",
      "C => B ( 2/3 ) 0.67 \n",
      "0.6666666666666666\n",
      "---\n",
      "('B', 'E')\n",
      "E => B\n",
      "3\n",
      "3\n",
      "E => B ( 3/3 ) 1.00 \n",
      "1.0\n",
      "---\n",
      "('C', 'E')\n",
      "E => C\n",
      "3\n",
      "3\n",
      "E => C ( 2/3 ) 0.67 \n",
      "0.6666666666666666\n",
      "---\n"
     ]
    }
   ],
   "source": [
    "generate_L2_rules(L2,L1_1)"
   ]
  },
  {
   "cell_type": "code",
   "execution_count": null,
   "id": "4ef5a96d",
   "metadata": {},
   "outputs": [],
   "source": []
  }
 ],
 "metadata": {
  "kernelspec": {
   "display_name": "Python 3",
   "language": "python",
   "name": "python3"
  },
  "language_info": {
   "codemirror_mode": {
    "name": "ipython",
    "version": 3
   },
   "file_extension": ".py",
   "mimetype": "text/x-python",
   "name": "python",
   "nbconvert_exporter": "python",
   "pygments_lexer": "ipython3",
   "version": "3.12.10"
  }
 },
 "nbformat": 4,
 "nbformat_minor": 5
}
