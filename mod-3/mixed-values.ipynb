{
 "cells": [
  {
   "cell_type": "code",
   "execution_count": 1,
   "id": "b99fe514",
   "metadata": {},
   "outputs": [],
   "source": [
    "import pandas as pd"
   ]
  },
  {
   "cell_type": "code",
   "execution_count": 2,
   "id": "b8fc441a",
   "metadata": {},
   "outputs": [],
   "source": [
    "df = pd.read_csv(\"../game_sales.csv\")"
   ]
  },
  {
   "cell_type": "code",
   "execution_count": 5,
   "id": "9a8a0954",
   "metadata": {},
   "outputs": [
    {
     "data": {
      "text/html": [
       "<div>\n",
       "<style scoped>\n",
       "    .dataframe tbody tr th:only-of-type {\n",
       "        vertical-align: middle;\n",
       "    }\n",
       "\n",
       "    .dataframe tbody tr th {\n",
       "        vertical-align: top;\n",
       "    }\n",
       "\n",
       "    .dataframe thead th {\n",
       "        text-align: right;\n",
       "    }\n",
       "</style>\n",
       "<table border=\"1\" class=\"dataframe\">\n",
       "  <thead>\n",
       "    <tr style=\"text-align: right;\">\n",
       "      <th></th>\n",
       "      <th>Platform</th>\n",
       "      <th>Global_Sales</th>\n",
       "      <th>EU_Sales</th>\n",
       "      <th>Release_Date</th>\n",
       "    </tr>\n",
       "  </thead>\n",
       "  <tbody>\n",
       "    <tr>\n",
       "      <th>0</th>\n",
       "      <td>Wii</td>\n",
       "      <td>82.74</td>\n",
       "      <td>29.02</td>\n",
       "      <td>mid</td>\n",
       "    </tr>\n",
       "    <tr>\n",
       "      <th>1</th>\n",
       "      <td>NES</td>\n",
       "      <td>40.24</td>\n",
       "      <td>3.58</td>\n",
       "      <td>older</td>\n",
       "    </tr>\n",
       "    <tr>\n",
       "      <th>2</th>\n",
       "      <td>Wii</td>\n",
       "      <td>35.82</td>\n",
       "      <td>12.88</td>\n",
       "      <td>mid</td>\n",
       "    </tr>\n",
       "    <tr>\n",
       "      <th>3</th>\n",
       "      <td>Wii</td>\n",
       "      <td>33.00</td>\n",
       "      <td>11.01</td>\n",
       "      <td>mid</td>\n",
       "    </tr>\n",
       "    <tr>\n",
       "      <th>4</th>\n",
       "      <td>GB</td>\n",
       "      <td>31.37</td>\n",
       "      <td>8.89</td>\n",
       "      <td>older</td>\n",
       "    </tr>\n",
       "  </tbody>\n",
       "</table>\n",
       "</div>"
      ],
      "text/plain": [
       "  Platform  Global_Sales  EU_Sales Release_Date\n",
       "0      Wii         82.74     29.02          mid\n",
       "1      NES         40.24      3.58        older\n",
       "2      Wii         35.82     12.88          mid\n",
       "3      Wii         33.00     11.01          mid\n",
       "4       GB         31.37      8.89        older"
      ]
     },
     "execution_count": 5,
     "metadata": {},
     "output_type": "execute_result"
    }
   ],
   "source": [
    "df.head(5)"
   ]
  },
  {
   "cell_type": "code",
   "execution_count": 6,
   "id": "44b40c8c",
   "metadata": {},
   "outputs": [],
   "source": [
    "ten_games = df[:10]"
   ]
  },
  {
   "cell_type": "code",
   "execution_count": 7,
   "id": "97a351e3",
   "metadata": {},
   "outputs": [
    {
     "data": {
      "text/html": [
       "<div>\n",
       "<style scoped>\n",
       "    .dataframe tbody tr th:only-of-type {\n",
       "        vertical-align: middle;\n",
       "    }\n",
       "\n",
       "    .dataframe tbody tr th {\n",
       "        vertical-align: top;\n",
       "    }\n",
       "\n",
       "    .dataframe thead th {\n",
       "        text-align: right;\n",
       "    }\n",
       "</style>\n",
       "<table border=\"1\" class=\"dataframe\">\n",
       "  <thead>\n",
       "    <tr style=\"text-align: right;\">\n",
       "      <th></th>\n",
       "      <th>Platform</th>\n",
       "      <th>Global_Sales</th>\n",
       "      <th>EU_Sales</th>\n",
       "      <th>Release_Date</th>\n",
       "    </tr>\n",
       "  </thead>\n",
       "  <tbody>\n",
       "    <tr>\n",
       "      <th>0</th>\n",
       "      <td>Wii</td>\n",
       "      <td>82.74</td>\n",
       "      <td>29.02</td>\n",
       "      <td>mid</td>\n",
       "    </tr>\n",
       "    <tr>\n",
       "      <th>1</th>\n",
       "      <td>NES</td>\n",
       "      <td>40.24</td>\n",
       "      <td>3.58</td>\n",
       "      <td>older</td>\n",
       "    </tr>\n",
       "    <tr>\n",
       "      <th>2</th>\n",
       "      <td>Wii</td>\n",
       "      <td>35.82</td>\n",
       "      <td>12.88</td>\n",
       "      <td>mid</td>\n",
       "    </tr>\n",
       "    <tr>\n",
       "      <th>3</th>\n",
       "      <td>Wii</td>\n",
       "      <td>33.00</td>\n",
       "      <td>11.01</td>\n",
       "      <td>mid</td>\n",
       "    </tr>\n",
       "    <tr>\n",
       "      <th>4</th>\n",
       "      <td>GB</td>\n",
       "      <td>31.37</td>\n",
       "      <td>8.89</td>\n",
       "      <td>older</td>\n",
       "    </tr>\n",
       "    <tr>\n",
       "      <th>5</th>\n",
       "      <td>GB</td>\n",
       "      <td>30.26</td>\n",
       "      <td>2.26</td>\n",
       "      <td>older</td>\n",
       "    </tr>\n",
       "    <tr>\n",
       "      <th>6</th>\n",
       "      <td>DS</td>\n",
       "      <td>30.01</td>\n",
       "      <td>9.23</td>\n",
       "      <td>mid</td>\n",
       "    </tr>\n",
       "    <tr>\n",
       "      <th>7</th>\n",
       "      <td>Wii</td>\n",
       "      <td>29.02</td>\n",
       "      <td>9.20</td>\n",
       "      <td>mid</td>\n",
       "    </tr>\n",
       "    <tr>\n",
       "      <th>8</th>\n",
       "      <td>Wii</td>\n",
       "      <td>28.62</td>\n",
       "      <td>7.06</td>\n",
       "      <td>mid</td>\n",
       "    </tr>\n",
       "    <tr>\n",
       "      <th>9</th>\n",
       "      <td>NES</td>\n",
       "      <td>28.31</td>\n",
       "      <td>0.63</td>\n",
       "      <td>older</td>\n",
       "    </tr>\n",
       "  </tbody>\n",
       "</table>\n",
       "</div>"
      ],
      "text/plain": [
       "  Platform  Global_Sales  EU_Sales Release_Date\n",
       "0      Wii         82.74     29.02          mid\n",
       "1      NES         40.24      3.58        older\n",
       "2      Wii         35.82     12.88          mid\n",
       "3      Wii         33.00     11.01          mid\n",
       "4       GB         31.37      8.89        older\n",
       "5       GB         30.26      2.26        older\n",
       "6       DS         30.01      9.23          mid\n",
       "7      Wii         29.02      9.20          mid\n",
       "8      Wii         28.62      7.06          mid\n",
       "9      NES         28.31      0.63        older"
      ]
     },
     "execution_count": 7,
     "metadata": {},
     "output_type": "execute_result"
    }
   ],
   "source": [
    "ten_games"
   ]
  },
  {
   "cell_type": "code",
   "execution_count": 8,
   "id": "3e81f4b7",
   "metadata": {},
   "outputs": [],
   "source": [
    "platform = ten_games['Platform'].to_list()"
   ]
  },
  {
   "cell_type": "code",
   "execution_count": 10,
   "id": "9f7eb5b1",
   "metadata": {},
   "outputs": [],
   "source": [
    "def get_cat_dist_matrix(list):\n",
    "    distance_matrix = []\n",
    "    for i in range(len(list)):\n",
    "        distance_row = []\n",
    "        for j in range(len(list)):\n",
    "            if list[i] == list[j]:\n",
    "                distance = 0\n",
    "            else:\n",
    "                distance = 1\n",
    "            distance_row.append(distance)\n",
    "        distance_matrix.append(distance_row)\n",
    "    return distance_matrix\n",
    "\n",
    "platform_distance_matrix = get_cat_dist_matrix(platform)"
   ]
  },
  {
   "cell_type": "code",
   "execution_count": 11,
   "id": "2b77d857",
   "metadata": {},
   "outputs": [
    {
     "data": {
      "text/plain": [
       "[[0, 1, 0, 0, 1, 1, 1, 0, 0, 1],\n",
       " [1, 0, 1, 1, 1, 1, 1, 1, 1, 0],\n",
       " [0, 1, 0, 0, 1, 1, 1, 0, 0, 1],\n",
       " [0, 1, 0, 0, 1, 1, 1, 0, 0, 1],\n",
       " [1, 1, 1, 1, 0, 0, 1, 1, 1, 1],\n",
       " [1, 1, 1, 1, 0, 0, 1, 1, 1, 1],\n",
       " [1, 1, 1, 1, 1, 1, 0, 1, 1, 1],\n",
       " [0, 1, 0, 0, 1, 1, 1, 0, 0, 1],\n",
       " [0, 1, 0, 0, 1, 1, 1, 0, 0, 1],\n",
       " [1, 0, 1, 1, 1, 1, 1, 1, 1, 0]]"
      ]
     },
     "execution_count": 11,
     "metadata": {},
     "output_type": "execute_result"
    }
   ],
   "source": [
    "platform_distance_matrix"
   ]
  },
  {
   "cell_type": "code",
   "execution_count": 21,
   "id": "3fba11aa",
   "metadata": {},
   "outputs": [],
   "source": [
    "def normalize(x,min, max):\n",
    "    return (x-min)/(max-min)\n",
    "\n",
    "def normalize_list(list):\n",
    "    l_nor = []\n",
    "    for x in list:\n",
    "        l_nor.append(round(normalize(x, min(list), max(list)), 2))\n",
    "    return l_nor\n",
    "\n",
    "global_norm = normalize_list(ten_games[\"Global_Sales\"].to_list())"
   ]
  },
  {
   "cell_type": "code",
   "execution_count": 25,
   "id": "ff03e9aa",
   "metadata": {},
   "outputs": [
    {
     "data": {
      "text/plain": [
       "[[0.0, 0.78, 0.86, 0.91, 0.94, 0.96, 0.97, 0.99, 0.99, 1.0],\n",
       " [0.78, 0.0, 0.08, 0.13, 0.16, 0.18, 0.19, 0.21, 0.21, 0.22],\n",
       " [0.86, 0.08, 0.0, 0.05, 0.08, 0.1, 0.11, 0.13, 0.13, 0.14],\n",
       " [0.91, 0.13, 0.05, 0.0, 0.03, 0.05, 0.06, 0.08, 0.08, 0.09],\n",
       " [0.94, 0.16, 0.08, 0.03, 0.0, 0.02, 0.03, 0.05, 0.05, 0.06],\n",
       " [0.96, 0.18, 0.1, 0.05, 0.02, 0.0, 0.01, 0.03, 0.03, 0.04],\n",
       " [0.97, 0.19, 0.11, 0.06, 0.03, 0.01, 0.0, 0.02, 0.02, 0.03],\n",
       " [0.99, 0.21, 0.13, 0.08, 0.05, 0.03, 0.02, 0.0, 0.0, 0.01],\n",
       " [0.99, 0.21, 0.13, 0.08, 0.05, 0.03, 0.02, 0.0, 0.0, 0.01],\n",
       " [1.0, 0.22, 0.14, 0.09, 0.06, 0.04, 0.03, 0.01, 0.01, 0.0]]"
      ]
     },
     "execution_count": 25,
     "metadata": {},
     "output_type": "execute_result"
    }
   ],
   "source": [
    "import math\n",
    "\n",
    "def manhattan_distance(list_nor, i, j,rounding):\n",
    "    return round(math.fabs(list_nor[i] - list_nor[j]),rounding)\n",
    "\n",
    "def get_num_distance_matrix(list_nor):\n",
    "    distance_matrix = []\n",
    "    for i in range(len(list_nor)):\n",
    "        distance_row = []\n",
    "        for j in range(len(list_nor)):\n",
    "            distance = manhattan_distance(list_nor, i,j,2)\n",
    "            distance_row.append(distance)\n",
    "        distance_matrix.append(distance_row)\n",
    "    return(distance_matrix)\n",
    "\n",
    "global_distance_matrix = get_num_distance_matrix(global_norm)\n",
    "global_distance_matrix"
   ]
  },
  {
   "cell_type": "code",
   "execution_count": 26,
   "id": "8865fe0e",
   "metadata": {},
   "outputs": [
    {
     "data": {
      "text/plain": [
       "[[0.0, 0.9, 0.57, 0.63, 0.71, 0.94, 0.7, 0.7, 0.77, 1.0],\n",
       " [0.9, 0.0, 0.33, 0.27, 0.19, 0.04, 0.2, 0.2, 0.13, 0.1],\n",
       " [0.57, 0.33, 0.0, 0.06, 0.14, 0.37, 0.13, 0.13, 0.2, 0.43],\n",
       " [0.63, 0.27, 0.06, 0.0, 0.08, 0.31, 0.07, 0.07, 0.14, 0.37],\n",
       " [0.71, 0.19, 0.14, 0.08, 0.0, 0.23, 0.01, 0.01, 0.06, 0.29],\n",
       " [0.94, 0.04, 0.37, 0.31, 0.23, 0.0, 0.24, 0.24, 0.17, 0.06],\n",
       " [0.7, 0.2, 0.13, 0.07, 0.01, 0.24, 0.0, 0.0, 0.07, 0.3],\n",
       " [0.7, 0.2, 0.13, 0.07, 0.01, 0.24, 0.0, 0.0, 0.07, 0.3],\n",
       " [0.77, 0.13, 0.2, 0.14, 0.06, 0.17, 0.07, 0.07, 0.0, 0.23],\n",
       " [1.0, 0.1, 0.43, 0.37, 0.29, 0.06, 0.3, 0.3, 0.23, 0.0]]"
      ]
     },
     "execution_count": 26,
     "metadata": {},
     "output_type": "execute_result"
    }
   ],
   "source": [
    "eu_norm = normalize_list(ten_games[\"EU_Sales\"].to_list())\n",
    "eu_distance_matrix = get_num_distance_matrix(eu_norm)\n",
    "eu_distance_matrix"
   ]
  },
  {
   "cell_type": "code",
   "execution_count": 29,
   "id": "c7ab7604",
   "metadata": {},
   "outputs": [
    {
     "data": {
      "text/plain": [
       "[[0.0, 0.5, 0.0, 0.0, 0.5, 0.5, 0.0, 0.0, 0.0, 0.5],\n",
       " [0.5, 0.0, 0.5, 0.5, 0.0, 0.0, 0.5, 0.5, 0.5, 0.0],\n",
       " [0.0, 0.5, 0.0, 0.0, 0.5, 0.5, 0.0, 0.0, 0.0, 0.5],\n",
       " [0.0, 0.5, 0.0, 0.0, 0.5, 0.5, 0.0, 0.0, 0.0, 0.5],\n",
       " [0.5, 0.0, 0.5, 0.5, 0.0, 0.0, 0.5, 0.5, 0.5, 0.0],\n",
       " [0.5, 0.0, 0.5, 0.5, 0.0, 0.0, 0.5, 0.5, 0.5, 0.0],\n",
       " [0.0, 0.5, 0.0, 0.0, 0.5, 0.5, 0.0, 0.0, 0.0, 0.5],\n",
       " [0.0, 0.5, 0.0, 0.0, 0.5, 0.5, 0.0, 0.0, 0.0, 0.5],\n",
       " [0.0, 0.5, 0.0, 0.0, 0.5, 0.5, 0.0, 0.0, 0.0, 0.5],\n",
       " [0.5, 0.0, 0.5, 0.5, 0.0, 0.0, 0.5, 0.5, 0.5, 0.0]]"
      ]
     },
     "execution_count": 29,
     "metadata": {},
     "output_type": "execute_result"
    }
   ],
   "source": [
    "release_date_ranks = ['older', 'mid', 'new']\n",
    "\n",
    "def get_ord_distance_matrix(list, rank_list):\n",
    "    distance_matrix = []\n",
    "    for i in list:\n",
    "        distance_row = []\n",
    "        for j in list:\n",
    "            distance = round(math.fabs((rank_list.index(i) - rank_list.index(j))/(len(rank_list)- 1)),3)\n",
    "            distance_row.append(distance)\n",
    "        distance_matrix.append(distance_row)\n",
    "    return distance_matrix\n",
    "\n",
    "release_date_distance_matrix = get_ord_distance_matrix(ten_games[\"Release_Date\"].to_list(), release_date_ranks)\n",
    "release_date_distance_matrix\n"
   ]
  },
  {
   "cell_type": "code",
   "execution_count": null,
   "id": "c903804a",
   "metadata": {},
   "outputs": [],
   "source": [
    "weights = [.25, .25, .25, .25]\n",
    "\n",
    "distance_matrices = [platform_distance_matrix, global_distance_matrix, eu_distance_matrix, release_date_distance_matrix]\n",
    "\n",
    "def get_mixed_distance_matrix(weights, matrices):\n",
    "    matrix_length = len(matrices[0])\n",
    "    for i in range(len(matrix_length):"
   ]
  }
 ],
 "metadata": {
  "kernelspec": {
   "display_name": "Python 3",
   "language": "python",
   "name": "python3"
  },
  "language_info": {
   "codemirror_mode": {
    "name": "ipython",
    "version": 3
   },
   "file_extension": ".py",
   "mimetype": "text/x-python",
   "name": "python",
   "nbconvert_exporter": "python",
   "pygments_lexer": "ipython3",
   "version": "3.12.10"
  }
 },
 "nbformat": 4,
 "nbformat_minor": 5
}
