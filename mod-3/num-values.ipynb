{
 "cells": [
  {
   "cell_type": "code",
   "execution_count": 1,
   "id": "a53001a5",
   "metadata": {},
   "outputs": [],
   "source": [
    "l = [29, 27, 15, 27, 24, 17, 35, 18, 11, 24]"
   ]
  },
  {
   "cell_type": "code",
   "execution_count": 2,
   "id": "9e87b18a",
   "metadata": {},
   "outputs": [],
   "source": [
    "import copy"
   ]
  },
  {
   "cell_type": "code",
   "execution_count": 3,
   "id": "55873890",
   "metadata": {},
   "outputs": [],
   "source": [
    "# create deep copy of l\n",
    "k = copy.deepcopy(l)"
   ]
  },
  {
   "cell_type": "code",
   "execution_count": 4,
   "id": "ad8abc2e",
   "metadata": {},
   "outputs": [],
   "source": [
    "k.sort()"
   ]
  },
  {
   "cell_type": "code",
   "execution_count": 5,
   "id": "7005caa7",
   "metadata": {},
   "outputs": [
    {
     "name": "stdout",
     "output_type": "stream",
     "text": [
      "[11, 15, 17, 18, 24, 24, 27, 27, 29, 35]\n"
     ]
    }
   ],
   "source": [
    "print(k)"
   ]
  },
  {
   "cell_type": "code",
   "execution_count": 6,
   "id": "2ec52f18",
   "metadata": {},
   "outputs": [
    {
     "name": "stdout",
     "output_type": "stream",
     "text": [
      "[29, 27, 15, 27, 24, 17, 35, 18, 11, 24]\n"
     ]
    }
   ],
   "source": [
    "print(l)"
   ]
  },
  {
   "cell_type": "code",
   "execution_count": 8,
   "id": "0557f8fa",
   "metadata": {},
   "outputs": [],
   "source": [
    "min_v = min(k)\n",
    "max_v = max(k)"
   ]
  },
  {
   "cell_type": "code",
   "execution_count": 10,
   "id": "5c92ba62",
   "metadata": {},
   "outputs": [
    {
     "name": "stdout",
     "output_type": "stream",
     "text": [
      "0.75\n",
      "0.67\n",
      "0.17\n",
      "0.67\n",
      "0.54\n",
      "0.25\n",
      "1.0\n",
      "0.29\n",
      "0.0\n",
      "0.54\n"
     ]
    }
   ],
   "source": [
    "def normalize(x,min, max):\n",
    "    return (x-min)/(max-min)\n",
    "\n",
    "l_nor = []\n",
    "for x in l:\n",
    "    print(round(normalize(x, min_v, max_v), 2))\n",
    "    l_nor.append(round(normalize(x, min_v, max_v), 2))\n"
   ]
  },
  {
   "cell_type": "code",
   "execution_count": 27,
   "id": "03bb5a19",
   "metadata": {},
   "outputs": [],
   "source": [
    "distance_matrix = []\n",
    "distance_row = []"
   ]
  },
  {
   "cell_type": "code",
   "execution_count": null,
   "id": "70359924",
   "metadata": {},
   "outputs": [
    {
     "name": "stdout",
     "output_type": "stream",
     "text": [
      "0.0\t0.08\t0.58\t0.08\t0.21\t0.5\t0.25\t0.46\t0.75\t0.21\t\n",
      "\n",
      "0.08\t0.0\t0.5\t0.0\t0.13\t0.42\t0.33\t0.38\t0.67\t0.13\t\n",
      "\n",
      "0.58\t0.5\t0.0\t0.5\t0.37\t0.08\t0.83\t0.12\t0.17\t0.37\t\n",
      "\n",
      "0.08\t0.0\t0.5\t0.0\t0.13\t0.42\t0.33\t0.38\t0.67\t0.13\t\n",
      "\n",
      "0.21\t0.13\t0.37\t0.13\t0.0\t0.29\t0.46\t0.25\t0.54\t0.0\t\n",
      "\n",
      "0.5\t0.42\t0.08\t0.42\t0.29\t0.0\t0.75\t0.04\t0.25\t0.29\t\n",
      "\n",
      "0.25\t0.33\t0.83\t0.33\t0.46\t0.75\t0.0\t0.71\t1.0\t0.46\t\n",
      "\n",
      "0.46\t0.38\t0.12\t0.38\t0.25\t0.04\t0.71\t0.0\t0.29\t0.25\t\n",
      "\n",
      "0.75\t0.67\t0.17\t0.67\t0.54\t0.25\t1.0\t0.29\t0.0\t0.54\t\n",
      "\n",
      "0.21\t0.13\t0.37\t0.13\t0.0\t0.29\t0.46\t0.25\t0.54\t0.0\t\n",
      "\n"
     ]
    }
   ],
   "source": [
    "import math\n",
    "\n",
    "def manhattan_distance(list_nor, i, j,rounding):\n",
    "    return round(math.fabs(list_nor[i] - list_nor[j]),rounding)\n",
    "\n",
    "def get_num_distance_matrix(list_nor):\n",
    "    for i in range(len(list_nor)):\n",
    "        distance_row = []\n",
    "        for j in range(len(list_nor)):\n",
    "            distance = manhattan_distance(i,j,2)\n",
    "            distance_row.append(distance)\n",
    "        distance_matrix.append(distance_row)"
   ]
  },
  {
   "cell_type": "code",
   "execution_count": 24,
   "id": "9ed93098",
   "metadata": {},
   "outputs": [
    {
     "name": "stdout",
     "output_type": "stream",
     "text": [
      "[]\n"
     ]
    }
   ],
   "source": [
    "print(distance_matrix)"
   ]
  },
  {
   "cell_type": "code",
   "execution_count": 18,
   "id": "f657cef2",
   "metadata": {},
   "outputs": [
    {
     "name": "stdout",
     "output_type": "stream",
     "text": [
      "0.0\t0.08\t0.58\t0.08\t0.21\t0.5\t0.25\t0.46\t0.75\t0.21\t\n",
      "\n",
      "\t0.0\t0.5\t0.0\t0.13\t0.42\t0.33\t0.38\t0.67\t0.13\t\n",
      "\n",
      "\t\t0.0\t0.5\t0.37\t0.08\t0.83\t0.12\t0.17\t0.37\t\n",
      "\n",
      "\t\t\t0.0\t0.13\t0.42\t0.33\t0.38\t0.67\t0.13\t\n",
      "\n",
      "\t\t\t\t0.0\t0.29\t0.46\t0.25\t0.54\t0.0\t\n",
      "\n",
      "\t\t\t\t\t0.0\t0.75\t0.04\t0.25\t0.29\t\n",
      "\n",
      "\t\t\t\t\t\t0.0\t0.71\t1.0\t0.46\t\n",
      "\n",
      "\t\t\t\t\t\t\t0.0\t0.29\t0.25\t\n",
      "\n",
      "\t\t\t\t\t\t\t\t0.0\t0.54\t\n",
      "\n",
      "\t\t\t\t\t\t\t\t\t0.0\t\n",
      "\n"
     ]
    }
   ],
   "source": [
    "for i in range(len(l_nor)):\n",
    "    distance_row = []\n",
    "    for j in range(len(l_nor)):\n",
    "        if j>= i:\n",
    "            distance = manhattan_distance(i,j,2)\n",
    "            print(distance, end=\"\\t\")\n",
    "        else:\n",
    "            print(\"\",end = \"\\t\")\n",
    "    print(\"\\n\")"
   ]
  },
  {
   "cell_type": "code",
   "execution_count": 29,
   "id": "ab4f6bd6",
   "metadata": {},
   "outputs": [],
   "source": [
    "def get_sim(matrix, i,j):\n",
    "    return 1 - matrix[i][j]\n",
    "\n",
    "similarity_matrix = []\n",
    "for i in range(len(l_nor)):\n",
    "    similarity_row = []\n",
    "    for j in range(len(l_nor)):\n",
    "        similarity_row.append(round(get_sim(distance_matrix,i,j), 2))\n",
    "    similarity_matrix.append(similarity_row)"
   ]
  },
  {
   "cell_type": "code",
   "execution_count": 30,
   "id": "8aa60c01",
   "metadata": {},
   "outputs": [
    {
     "name": "stdout",
     "output_type": "stream",
     "text": [
      "[[1.0, 0.92, 0.42, 0.92, 0.79, 0.5, 0.75, 0.54, 0.25, 0.79], [0.92, 1.0, 0.5, 1.0, 0.87, 0.58, 0.67, 0.62, 0.33, 0.87], [0.42, 0.5, 1.0, 0.5, 0.63, 0.92, 0.17, 0.88, 0.83, 0.63], [0.92, 1.0, 0.5, 1.0, 0.87, 0.58, 0.67, 0.62, 0.33, 0.87], [0.79, 0.87, 0.63, 0.87, 1.0, 0.71, 0.54, 0.75, 0.46, 1.0], [0.5, 0.58, 0.92, 0.58, 0.71, 1.0, 0.25, 0.96, 0.75, 0.71], [0.75, 0.67, 0.17, 0.67, 0.54, 0.25, 1.0, 0.29, 0.0, 0.54], [0.54, 0.62, 0.88, 0.62, 0.75, 0.96, 0.29, 1.0, 0.71, 0.75], [0.25, 0.33, 0.83, 0.33, 0.46, 0.75, 0.0, 0.71, 1.0, 0.46], [0.79, 0.87, 0.63, 0.87, 1.0, 0.71, 0.54, 0.75, 0.46, 1.0]]\n"
     ]
    }
   ],
   "source": [
    "print(similarity_matrix)"
   ]
  }
 ],
 "metadata": {
  "kernelspec": {
   "display_name": "Python 3",
   "language": "python",
   "name": "python3"
  },
  "language_info": {
   "codemirror_mode": {
    "name": "ipython",
    "version": 3
   },
   "file_extension": ".py",
   "mimetype": "text/x-python",
   "name": "python",
   "nbconvert_exporter": "python",
   "pygments_lexer": "ipython3",
   "version": "3.12.10"
  }
 },
 "nbformat": 4,
 "nbformat_minor": 5
}
