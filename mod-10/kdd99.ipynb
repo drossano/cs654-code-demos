{
 "cells": [
  {
   "cell_type": "code",
   "execution_count": null,
   "id": "392b00eb",
   "metadata": {},
   "outputs": [],
   "source": []
  },
  {
   "cell_type": "code",
   "execution_count": 1,
   "id": "e9c60b8b",
   "metadata": {},
   "outputs": [],
   "source": [
    "import pandas as pd"
   ]
  },
  {
   "cell_type": "code",
   "execution_count": 2,
   "id": "8c255c44",
   "metadata": {},
   "outputs": [],
   "source": [
    "df = pd.read_csv('kddcup.data_10_percent.txt', header= None)"
   ]
  },
  {
   "cell_type": "code",
   "execution_count": 3,
   "id": "f75040e0",
   "metadata": {},
   "outputs": [],
   "source": [
    "# Put these 1000 rows in df_normal_1000. This represents normal network data.\n",
    "df_normal_1000 = df.loc[df[41] == 'normal.'].iloc[:1000, 4:41]\n",
    "\n"
   ]
  },
  {
   "cell_type": "code",
   "execution_count": 4,
   "id": "fcf5a4e0",
   "metadata": {},
   "outputs": [],
   "source": [
    "# Put these 1000 rows in df_neptune_1000. This represents intrusion data.\n",
    "df_neptune_1000 = df.loc[df[41] == 'neptune.'].iloc[:1000, 4:41]"
   ]
  },
  {
   "cell_type": "code",
   "execution_count": 5,
   "id": "c5e81a01",
   "metadata": {},
   "outputs": [],
   "source": [
    "# This will be used in constructiong the two-class classifier later.  \n",
    "df = pd.concat([df_neptune_1000, df_normal_1000])"
   ]
  },
  {
   "cell_type": "code",
   "execution_count": 6,
   "id": "8711887b",
   "metadata": {},
   "outputs": [],
   "source": [
    "# Create the class labels. 0 is for normal and 1 is for intrusion.\n",
    "label_1 = []\n",
    "for i in range(1000):\n",
    "    label_1.append(1)\n",
    "#\n",
    "label_0 = []\n",
    "for i in range(1000):\n",
    "    label_0.append(0)\n",
    "\n",
    "labels = label_0 + label_1"
   ]
  },
  {
   "cell_type": "code",
   "execution_count": 7,
   "id": "7c0e46c3",
   "metadata": {},
   "outputs": [
    {
     "data": {
      "text/plain": [
       "[0, 0, 0, 0, 0, 0, 0, 0, 0, 0]"
      ]
     },
     "execution_count": 7,
     "metadata": {},
     "output_type": "execute_result"
    }
   ],
   "source": [
    "labels[:10]"
   ]
  },
  {
   "cell_type": "code",
   "execution_count": 9,
   "id": "af58eeb3",
   "metadata": {},
   "outputs": [
    {
     "data": {
      "text/plain": [
       "[1, 1, 1, 1, 1, 1, 1, 1, 1, 1]"
      ]
     },
     "execution_count": 9,
     "metadata": {},
     "output_type": "execute_result"
    }
   ],
   "source": [
    "labels[1000:1010]"
   ]
  },
  {
   "cell_type": "code",
   "execution_count": 10,
   "id": "aeab0fe7",
   "metadata": {},
   "outputs": [],
   "source": [
    "x = df.to_numpy()"
   ]
  },
  {
   "cell_type": "code",
   "execution_count": 12,
   "id": "503479d4",
   "metadata": {},
   "outputs": [
    {
     "data": {
      "text/plain": [
       "(2000, 37)"
      ]
     },
     "execution_count": 12,
     "metadata": {},
     "output_type": "execute_result"
    }
   ],
   "source": [
    "x.shape"
   ]
  },
  {
   "cell_type": "code",
   "execution_count": 13,
   "id": "37caab6e",
   "metadata": {},
   "outputs": [],
   "source": [
    "import numpy as np\n",
    "y = np.array(labels)"
   ]
  },
  {
   "cell_type": "code",
   "execution_count": 14,
   "id": "f6ee787c",
   "metadata": {},
   "outputs": [],
   "source": [
    "#split data into half training and half testing\n",
    "from sklearn.model_selection import train_test_split\n",
    "\n",
    "x_train,x_test, y_train, y_test = train_test_split(x, y, test_size=.5, random_state= 42)"
   ]
  },
  {
   "cell_type": "code",
   "execution_count": 16,
   "id": "5e993278",
   "metadata": {},
   "outputs": [
    {
     "name": "stdout",
     "output_type": "stream",
     "text": [
      "1000\n",
      "1000\n",
      "1000\n",
      "1000\n"
     ]
    }
   ],
   "source": [
    "print(len(x_test))\n",
    "print(len(x_train))\n",
    "print(len(y_test))\n",
    "print(len(y_train))"
   ]
  },
  {
   "cell_type": "code",
   "execution_count": 17,
   "id": "5fda5a38",
   "metadata": {},
   "outputs": [],
   "source": [
    "from sklearn.neighbors import KNeighborsClassifier"
   ]
  },
  {
   "cell_type": "code",
   "execution_count": null,
   "id": "680f1b90",
   "metadata": {},
   "outputs": [],
   "source": [
    "neigh.fit(x_train, y_train)"
   ]
  }
 ],
 "metadata": {
  "kernelspec": {
   "display_name": "Python 3",
   "language": "python",
   "name": "python3"
  },
  "language_info": {
   "codemirror_mode": {
    "name": "ipython",
    "version": 3
   },
   "file_extension": ".py",
   "mimetype": "text/x-python",
   "name": "python",
   "nbconvert_exporter": "python",
   "pygments_lexer": "ipython3",
   "version": "3.12.10"
  }
 },
 "nbformat": 4,
 "nbformat_minor": 5
}
