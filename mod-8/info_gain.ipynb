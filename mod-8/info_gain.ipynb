{
 "cells": [
  {
   "cell_type": "code",
   "execution_count": 2,
   "id": "adc59bd8",
   "metadata": {},
   "outputs": [],
   "source": [
    "import math"
   ]
  },
  {
   "cell_type": "code",
   "execution_count": null,
   "id": "c8e676e8",
   "metadata": {},
   "outputs": [],
   "source": [
    "def info(x, y):\n",
    "    x = float(x)\n",
    "    y = float(y)\n",
    "    if x == 0 or y == 0:\n",
    "        return 0\n",
    "    else:\n",
    "        return(-1) * (x/(x + y)) * math.log(x/(x + y), 2) + (-1) * (y/(x + y)) * math.log(y/(x + y), 2) "
   ]
  },
  {
   "cell_type": "code",
   "execution_count": 5,
   "id": "0ead8ec0",
   "metadata": {},
   "outputs": [
    {
     "data": {
      "text/plain": [
       "1.0"
      ]
     },
     "execution_count": 5,
     "metadata": {},
     "output_type": "execute_result"
    }
   ],
   "source": [
    "info(2,2)"
   ]
  },
  {
   "cell_type": "code",
   "execution_count": 6,
   "id": "d09468a7",
   "metadata": {},
   "outputs": [
    {
     "data": {
      "text/plain": [
       "0.8112781244591328"
      ]
     },
     "execution_count": 6,
     "metadata": {},
     "output_type": "execute_result"
    }
   ],
   "source": [
    "info(3,1)"
   ]
  },
  {
   "cell_type": "code",
   "execution_count": 7,
   "id": "9fdfedff",
   "metadata": {},
   "outputs": [
    {
     "data": {
      "text/plain": [
       "1.0"
      ]
     },
     "execution_count": 7,
     "metadata": {},
     "output_type": "execute_result"
    }
   ],
   "source": [
    "info(4,4)"
   ]
  },
  {
   "cell_type": "code",
   "execution_count": 8,
   "id": "e163e1bc",
   "metadata": {},
   "outputs": [
    {
     "data": {
      "text/plain": [
       "0.8112781244591328"
      ]
     },
     "execution_count": 8,
     "metadata": {},
     "output_type": "execute_result"
    }
   ],
   "source": [
    "info(1,3)"
   ]
  },
  {
   "cell_type": "code",
   "execution_count": 9,
   "id": "77cef7be",
   "metadata": {},
   "outputs": [
    {
     "data": {
      "text/plain": [
       "0"
      ]
     },
     "execution_count": 9,
     "metadata": {},
     "output_type": "execute_result"
    }
   ],
   "source": [
    "info(4,0)"
   ]
  },
  {
   "cell_type": "code",
   "execution_count": null,
   "id": "6ba44bfd",
   "metadata": {},
   "outputs": [],
   "source": [
    "# Given data for learning a decision tree\n",
    "# A1  A2  A3  Class\n",
    "# T   T   T   YES\n",
    "# T   T   T   YES\n",
    "# F   T   T   YES\n",
    "# F   F   T   YES\n",
    "# T   T   F   NO\n",
    "# T   F   F   NO\n",
    "# F   F   F   NO\n",
    "# F   F   F   NO"
   ]
  },
  {
   "cell_type": "code",
   "execution_count": null,
   "id": "6f515646",
   "metadata": {},
   "outputs": [
    {
     "data": {
      "text/plain": [
       "1.0"
      ]
     },
     "execution_count": 10,
     "metadata": {},
     "output_type": "execute_result"
    }
   ],
   "source": [
    "# info(entropy) of class labels; I(4,4)\n",
    "dataset_info = info(4,4)"
   ]
  },
  {
   "cell_type": "code",
   "execution_count": 13,
   "id": "a4a29f5f",
   "metadata": {},
   "outputs": [
    {
     "name": "stdout",
     "output_type": "stream",
     "text": [
      "0.0\n"
     ]
    }
   ],
   "source": [
    "A1_info = info(4,4) - (4/8*info(2,2) + 4/8 * info(2,2))\n",
    "print(A1_info)"
   ]
  },
  {
   "cell_type": "code",
   "execution_count": 14,
   "id": "6c8a2a95",
   "metadata": {},
   "outputs": [
    {
     "name": "stdout",
     "output_type": "stream",
     "text": [
      "0.18872187554086717\n"
     ]
    }
   ],
   "source": [
    "A2_info = info(4,4) - (4/8*info(3,1) + 4/8 * info(1,3))\n",
    "print(A2_info)"
   ]
  },
  {
   "cell_type": "code",
   "execution_count": 15,
   "id": "d0f64bb5",
   "metadata": {},
   "outputs": [
    {
     "name": "stdout",
     "output_type": "stream",
     "text": [
      "1.0\n"
     ]
    }
   ],
   "source": [
    "A3_info = info(4,4) - (4/8*info(4,0) + 4/8 * info(0,4))\n",
    "print(A3_info)"
   ]
  }
 ],
 "metadata": {
  "kernelspec": {
   "display_name": "Python 3",
   "language": "python",
   "name": "python3"
  },
  "language_info": {
   "codemirror_mode": {
    "name": "ipython",
    "version": 3
   },
   "file_extension": ".py",
   "mimetype": "text/x-python",
   "name": "python",
   "nbconvert_exporter": "python",
   "pygments_lexer": "ipython3",
   "version": "3.12.10"
  }
 },
 "nbformat": 4,
 "nbformat_minor": 5
}
