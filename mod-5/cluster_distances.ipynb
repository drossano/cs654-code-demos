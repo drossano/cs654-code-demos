{
 "cells": [
  {
   "cell_type": "code",
   "execution_count": 1,
   "id": "373bc183",
   "metadata": {},
   "outputs": [],
   "source": [
    "points = [[8,9],[4,6],[7,5],[5,2],[2,7],[8,4]]"
   ]
  },
  {
   "cell_type": "code",
   "execution_count": 2,
   "id": "36b58ce5",
   "metadata": {},
   "outputs": [],
   "source": [
    "import math\n",
    "def my_distance(p, q):\n",
    "    return math.fabs(p[0] - q[0]) + math.fabs(p[1] - q[1])"
   ]
  },
  {
   "cell_type": "code",
   "execution_count": 3,
   "id": "2b949b09",
   "metadata": {},
   "outputs": [],
   "source": [
    "def my_distance_min(C1, C2):\n",
    "    distance = 1000\n",
    "    for p in C1:\n",
    "        for q in C2:\n",
    "            if my_distance(p,q) < distance:\n",
    "                distance = my_distance(p,q)\n",
    "    return distance"
   ]
  },
  {
   "cell_type": "code",
   "execution_count": 4,
   "id": "6ea7148e",
   "metadata": {},
   "outputs": [
    {
     "name": "stdout",
     "output_type": "stream",
     "text": [
      "7.0\n"
     ]
    }
   ],
   "source": [
    "A = [[8 , 9]]\n",
    "B = [[4, 6]]\n",
    "\n",
    "print(my_distance_min(A, B))"
   ]
  },
  {
   "cell_type": "code",
   "execution_count": null,
   "id": "c46df607",
   "metadata": {},
   "outputs": [
    {
     "name": "stdout",
     "output_type": "stream",
     "text": [
      "merge 2 and 5\n"
     ]
    }
   ],
   "source": [
    "cluster_i = -1\n",
    "cluster_j = -1\n",
    "\n",
    "shortest_distance = 1000\n",
    "for i in range(len(points) - 1):\n",
    "    for j in range(i + 1, len(points)):\n",
    "        A = [points[i]]\n",
    "        B = [points[j]]\n",
    "        min_distance = my_distance_min(A, B)\n",
    "        if min_distance < shortest_distance:\n",
    "            cluster_i = i\n",
    "            cluster_j = j\n",
    "            shortest_distance = min_distance\n",
    "\n",
    "print(\"merge \" + str(cluster_i) + \" and \" + str(cluster_j))"
   ]
  },
  {
   "cell_type": "code",
   "execution_count": 9,
   "id": "8c4ba899",
   "metadata": {},
   "outputs": [],
   "source": [
    "def my_distance_max(c1 ,c2):\n",
    "    distance = 0\n",
    "    for p in c1:\n",
    "        for q in c2:\n",
    "            if my_distance(p, q) > distance:\n",
    "                distance = my_distance(p, q)\n",
    "    return distance"
   ]
  },
  {
   "cell_type": "code",
   "execution_count": 21,
   "id": "1868fd47",
   "metadata": {},
   "outputs": [
    {
     "name": "stdout",
     "output_type": "stream",
     "text": [
      "2.0\n",
      "10.0\n",
      "5.5\n"
     ]
    }
   ],
   "source": [
    "c1 = [points[0], points[int(len(points)/2) - 1]]\n",
    "c2 = [points[int(len(points)/2)], points[-1]]\n",
    "\n",
    "print(my_distance_min(c1,c2))\n",
    "print(my_distance_max(c1,c2))\n",
    "print(my_distance_avg(c1,c2))\n"
   ]
  },
  {
   "cell_type": "code",
   "execution_count": 20,
   "id": "704be216",
   "metadata": {},
   "outputs": [],
   "source": [
    "def my_distance_avg(c1, c2):\n",
    "    distance = 0\n",
    "    for p in c1: \n",
    "        for q in c2:\n",
    "            distance = distance + my_distance(p, q)\n",
    "    return distance/(len(c1)* len(c2))"
   ]
  },
  {
   "cell_type": "code",
   "execution_count": 10,
   "id": "92e28765",
   "metadata": {},
   "outputs": [
    {
     "name": "stdout",
     "output_type": "stream",
     "text": [
      "merge 2 and 5\n"
     ]
    }
   ],
   "source": [
    "cluster_i = -1\n",
    "cluster_j = -1\n",
    "\n",
    "shortest_distance = 1000\n",
    "for i in range(len(points) - 1):\n",
    "    for j in range(i + 1, len(points)):\n",
    "        A = [points[i]]\n",
    "        B = [points[j]]\n",
    "        min_distance = my_distance_max(A, B)\n",
    "        if min_distance < shortest_distance:\n",
    "            cluster_i = i\n",
    "            cluster_j = j\n",
    "            shortest_distance = min_distance\n",
    "\n",
    "print(\"merge \" + str(cluster_i) + \" and \" + str(cluster_j))"
   ]
  },
  {
   "cell_type": "code",
   "execution_count": null,
   "id": "c747d3ac",
   "metadata": {},
   "outputs": [],
   "source": []
  }
 ],
 "metadata": {
  "kernelspec": {
   "display_name": "Python 3",
   "language": "python",
   "name": "python3"
  },
  "language_info": {
   "codemirror_mode": {
    "name": "ipython",
    "version": 3
   },
   "file_extension": ".py",
   "mimetype": "text/x-python",
   "name": "python",
   "nbconvert_exporter": "python",
   "pygments_lexer": "ipython3",
   "version": "3.12.10"
  }
 },
 "nbformat": 4,
 "nbformat_minor": 5
}
