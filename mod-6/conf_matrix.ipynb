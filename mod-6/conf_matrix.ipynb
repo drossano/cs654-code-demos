{
 "cells": [
  {
   "cell_type": "code",
   "execution_count": 1,
   "id": "7325535c",
   "metadata": {},
   "outputs": [],
   "source": [
    "true_labels = ['A', 'A', 'A', 'A', 'A', 'A', 'A', 'A','A', 'A', 'B', 'B', 'B','B', 'B', 'B', 'B', 'B', 'B', 'B']"
   ]
  },
  {
   "cell_type": "code",
   "execution_count": 2,
   "id": "e0772698",
   "metadata": {},
   "outputs": [],
   "source": [
    "\n",
    "predicted_labels = ['A', 'B', 'A', 'B', 'B', 'A', 'A', 'A', 'A', 'B', 'B', 'B', 'B', 'A', 'A', 'A', 'B', 'B', 'B', 'B']"
   ]
  },
  {
   "cell_type": "code",
   "execution_count": 3,
   "id": "a208b9cc",
   "metadata": {},
   "outputs": [
    {
     "data": {
      "text/plain": [
       "['A', 'A', 'A', 'A', 'A', 'A', 'A', 'A', 'A', 'A']"
      ]
     },
     "execution_count": 3,
     "metadata": {},
     "output_type": "execute_result"
    }
   ],
   "source": [
    "true_labels[:10]"
   ]
  },
  {
   "cell_type": "code",
   "execution_count": 4,
   "id": "4d770a89",
   "metadata": {},
   "outputs": [
    {
     "data": {
      "text/plain": [
       "['B', 'B', 'B', 'B', 'B', 'B', 'B', 'B', 'B', 'B']"
      ]
     },
     "execution_count": 4,
     "metadata": {},
     "output_type": "execute_result"
    }
   ],
   "source": [
    "true_labels[10:20]"
   ]
  },
  {
   "cell_type": "code",
   "execution_count": 5,
   "id": "95f84805",
   "metadata": {},
   "outputs": [
    {
     "data": {
      "text/plain": [
       "['A', 'B', 'A', 'B', 'B', 'A', 'A', 'A', 'A', 'B']"
      ]
     },
     "execution_count": 5,
     "metadata": {},
     "output_type": "execute_result"
    }
   ],
   "source": [
    "predicted_labels[:10]"
   ]
  },
  {
   "cell_type": "code",
   "execution_count": 6,
   "id": "515bb3d3",
   "metadata": {},
   "outputs": [
    {
     "data": {
      "text/plain": [
       "['B', 'B', 'B', 'A', 'A', 'A', 'B', 'B', 'B', 'B']"
      ]
     },
     "execution_count": 6,
     "metadata": {},
     "output_type": "execute_result"
    }
   ],
   "source": [
    "predicted_labels[10:20]"
   ]
  },
  {
   "cell_type": "code",
   "execution_count": 15,
   "id": "518f2053",
   "metadata": {},
   "outputs": [],
   "source": [
    "num_true_A = 0\n",
    "num_true_B = 0\n",
    "num_predicted_A = 0\n",
    "num_predicted_B = 0"
   ]
  },
  {
   "cell_type": "code",
   "execution_count": 16,
   "id": "edb7e80d",
   "metadata": {},
   "outputs": [
    {
     "name": "stdout",
     "output_type": "stream",
     "text": [
      "10\n",
      "10\n"
     ]
    }
   ],
   "source": [
    "for label in true_labels:\n",
    "    if label == 'A':\n",
    "        num_true_A += 1\n",
    "    elif label == 'B':\n",
    "        num_true_B += 1\n",
    "    else:\n",
    "        print(\"error\")\n",
    "        break\n",
    "print(num_true_A)\n",
    "print(num_true_B)"
   ]
  },
  {
   "cell_type": "code",
   "execution_count": 17,
   "id": "c5a30362",
   "metadata": {},
   "outputs": [
    {
     "name": "stdout",
     "output_type": "stream",
     "text": [
      "9\n",
      "11\n"
     ]
    }
   ],
   "source": [
    "for label in predicted_labels:\n",
    "    if label == 'A':\n",
    "        num_predicted_A += 1\n",
    "    elif label == 'B':\n",
    "        num_predicted_B += 1\n",
    "    else:\n",
    "        print(\"error\")\n",
    "        break\n",
    "print(num_predicted_A)\n",
    "print(num_predicted_B)"
   ]
  },
  {
   "cell_type": "code",
   "execution_count": 27,
   "id": "6f0321ae",
   "metadata": {},
   "outputs": [
    {
     "name": "stdout",
     "output_type": "stream",
     "text": [
      "6\n",
      "3\n",
      "7\n",
      "4\n"
     ]
    }
   ],
   "source": [
    "true_pos = 0\n",
    "true_neg = 0\n",
    "false_pos = 0\n",
    "false_neg = 0\n",
    "\n",
    "for i in range(len(true_labels)):\n",
    "    if (true_labels[1] == predicted_labels[i]) and (true_labels[i] == 'A'):\n",
    "        true_pos += 1\n",
    "    elif (true_labels[1] == predicted_labels[i]) and (true_labels[i] == 'B'):\n",
    "        true_neg += 1\n",
    "    elif (true_labels[1] != predicted_labels[i]) and (true_labels[i] == 'A'):\n",
    "        false_neg += 1\n",
    "    elif (true_labels[1] != predicted_labels[i]) and (true_labels[i] == 'B'):\n",
    "        false_pos += 1\n",
    "    else:\n",
    "        print(\"error\")\n",
    "        break\n",
    "print(true_pos)\n",
    "print(true_neg)\n",
    "print(false_pos)\n",
    "print(false_neg)"
   ]
  },
  {
   "cell_type": "code",
   "execution_count": 40,
   "id": "75583041",
   "metadata": {},
   "outputs": [
    {
     "name": "stdout",
     "output_type": "stream",
     "text": [
      "accuracy: 0.45\n"
     ]
    }
   ],
   "source": [
    "accuracy = (true_pos+true_neg)/(len(true_labels))\n",
    "\n",
    "print(f\"accuracy: {accuracy}\")"
   ]
  },
  {
   "cell_type": "code",
   "execution_count": 41,
   "id": "e1f96a0a",
   "metadata": {},
   "outputs": [
    {
     "name": "stdout",
     "output_type": "stream",
     "text": [
      "0.55\n"
     ]
    }
   ],
   "source": [
    "error = 1 - accuracy\n",
    "print(error)"
   ]
  },
  {
   "cell_type": "code",
   "execution_count": 44,
   "id": "d83f89ec",
   "metadata": {},
   "outputs": [
    {
     "name": "stdout",
     "output_type": "stream",
     "text": [
      "0.46153846153846156\n"
     ]
    }
   ],
   "source": [
    "precision = true_pos / (true_pos + false_pos)\n",
    "print(precision)"
   ]
  },
  {
   "cell_type": "code",
   "execution_count": 43,
   "id": "1bf29fda",
   "metadata": {},
   "outputs": [
    {
     "name": "stdout",
     "output_type": "stream",
     "text": [
      "0.6\n"
     ]
    }
   ],
   "source": [
    "recall = true_pos / (true_pos+false_neg)\n",
    "print(recall)"
   ]
  }
 ],
 "metadata": {
  "kernelspec": {
   "display_name": "Python 3",
   "language": "python",
   "name": "python3"
  },
  "language_info": {
   "codemirror_mode": {
    "name": "ipython",
    "version": 3
   },
   "file_extension": ".py",
   "mimetype": "text/x-python",
   "name": "python",
   "nbconvert_exporter": "python",
   "pygments_lexer": "ipython3",
   "version": "3.12.10"
  }
 },
 "nbformat": 4,
 "nbformat_minor": 5
}
