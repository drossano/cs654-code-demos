{
 "cells": [
  {
   "cell_type": "code",
   "execution_count": 7,
   "id": "cfbeadcf",
   "metadata": {},
   "outputs": [],
   "source": [
    "fin = open('example1.txt')"
   ]
  },
  {
   "cell_type": "code",
   "execution_count": 8,
   "id": "21d062a2",
   "metadata": {},
   "outputs": [],
   "source": [
    "# save the baskets in T\n",
    "fin.seek(0)\n",
    "transactions=[]\n",
    "for x in fin:\n",
    "    X = x.strip()\n",
    "    Y = X.split(',')\n",
    "    transactions.append(Y)\n",
    "fin.close()"
   ]
  },
  {
   "cell_type": "code",
   "execution_count": 10,
   "id": "51dca1b2",
   "metadata": {},
   "outputs": [
    {
     "data": {
      "text/plain": [
       "[['A', 'B', 'C'], ['A', 'C'], ['A', 'D'], ['B', 'E', 'F']]"
      ]
     },
     "execution_count": 10,
     "metadata": {},
     "output_type": "execute_result"
    }
   ],
   "source": [
    "transactions"
   ]
  },
  {
   "cell_type": "code",
   "execution_count": 4,
   "id": "e92a5d30",
   "metadata": {},
   "outputs": [],
   "source": [
    "def get_unique_items(transaction_list):\n",
    "    unique_items = []\n",
    "    for transaction in transaction_list:\n",
    "        for item in transaction:\n",
    "            if item not in unique_items:\n",
    "                unique_items.append(item)\n",
    "    unique_items.sort()\n",
    "    return unique_items"
   ]
  },
  {
   "cell_type": "code",
   "execution_count": 11,
   "id": "fdd73ccf",
   "metadata": {},
   "outputs": [],
   "source": [
    "unique_items = get_unique_items(transactions)"
   ]
  },
  {
   "cell_type": "code",
   "execution_count": 16,
   "id": "860564a9",
   "metadata": {},
   "outputs": [],
   "source": [
    "def generate_item_frequencies(unique_items, transaction_list):\n",
    "    frequencies = {}\n",
    "    for item in unique_items:\n",
    "        count = 0\n",
    "        for transaction in transaction_list:\n",
    "            if item in transaction:\n",
    "                count += 1\n",
    "        frequencies[item] = count\n",
    "    return frequencies\n",
    "        "
   ]
  },
  {
   "cell_type": "code",
   "execution_count": 22,
   "id": "0d0b8921",
   "metadata": {},
   "outputs": [],
   "source": [
    "freqs = generate_item_frequencies(unique_items,transactions)"
   ]
  },
  {
   "cell_type": "code",
   "execution_count": 18,
   "id": "1d5c699f",
   "metadata": {},
   "outputs": [],
   "source": [
    "# assume min support threshold is 2; 2/4 = .5\n",
    "min_support = 2\n"
   ]
  },
  {
   "cell_type": "code",
   "execution_count": 20,
   "id": "a1feb5d1",
   "metadata": {},
   "outputs": [],
   "source": [
    "def generate_L1(frequencies, min_support):\n",
    "    L1 = {}\n",
    "    for k in frequencies.keys():\n",
    "        if frequencies[k] >= min_support:\n",
    "            L1[k] = frequencies[k]\n",
    "    return L1"
   ]
  },
  {
   "cell_type": "code",
   "execution_count": 23,
   "id": "7c4d6241",
   "metadata": {},
   "outputs": [],
   "source": [
    "L1 = generate_L1(freqs, min_support)"
   ]
  },
  {
   "cell_type": "code",
   "execution_count": 24,
   "id": "c4d46bca",
   "metadata": {},
   "outputs": [
    {
     "data": {
      "text/plain": [
       "{'A': 3, 'B': 2, 'C': 2}"
      ]
     },
     "execution_count": 24,
     "metadata": {},
     "output_type": "execute_result"
    }
   ],
   "source": [
    "L1"
   ]
  },
  {
   "cell_type": "code",
   "execution_count": 27,
   "id": "4d2d2b81",
   "metadata": {},
   "outputs": [],
   "source": [
    "def generate_C2_pairs(L1):\n",
    "    pairs = []\n",
    "    keys = list(L1.keys())\n",
    "    for i in range(len(keys) - 1):\n",
    "        for j in range( i + 1, len(keys)):\n",
    "            pair = [keys[i], keys[j]]\n",
    "            pair.sort()\n",
    "            pairs.append(pair)\n",
    "    return pairs"
   ]
  },
  {
   "cell_type": "code",
   "execution_count": 30,
   "id": "c011d292",
   "metadata": {},
   "outputs": [
    {
     "data": {
      "text/plain": [
       "[['A', 'B'], ['A', 'C'], ['B', 'C']]"
      ]
     },
     "execution_count": 30,
     "metadata": {},
     "output_type": "execute_result"
    }
   ],
   "source": [
    "C2_pairs = generate_C2_pairs(L1)\n",
    "C2_pairs"
   ]
  },
  {
   "cell_type": "code",
   "execution_count": 32,
   "id": "84a0da8a",
   "metadata": {},
   "outputs": [],
   "source": [
    "def included(transaction, pair):\n",
    "    subset = True\n",
    "    for x in pair:\n",
    "        if x not in transaction:\n",
    "            subset = False\n",
    "    return subset"
   ]
  },
  {
   "cell_type": "code",
   "execution_count": 35,
   "id": "7f9422d4",
   "metadata": {},
   "outputs": [],
   "source": [
    "def generate_C2(pairs, transaction_list):\n",
    "    d = {}\n",
    "    for pair in pairs:\n",
    "        count = 0\n",
    "        for transaction in transaction_list:\n",
    "            if included(transaction,pair):\n",
    "                count += 1\n",
    "        d[tuple(pair)] = count\n",
    "    return d"
   ]
  },
  {
   "cell_type": "code",
   "execution_count": 36,
   "id": "0fef5d53",
   "metadata": {},
   "outputs": [
    {
     "data": {
      "text/plain": [
       "{('A', 'B'): 1, ('A', 'C'): 2, ('B', 'C'): 1}"
      ]
     },
     "execution_count": 36,
     "metadata": {},
     "output_type": "execute_result"
    }
   ],
   "source": [
    "C2 = generate_C2(C2_pairs, transactions)\n",
    "C2"
   ]
  },
  {
   "cell_type": "code",
   "execution_count": 37,
   "id": "8f36984c",
   "metadata": {},
   "outputs": [],
   "source": [
    "# filter out item sets that dont satisfy min support threshold\n",
    "\n",
    "def generate_L2(C2, min_support):\n",
    "    d = C2\n",
    "    L2 = {}\n",
    "    for k in d.keys():\n",
    "        if d[k] >=  min_support:\n",
    "            L2[k] = d[k]\n",
    "    return L2"
   ]
  },
  {
   "cell_type": "code",
   "execution_count": 40,
   "id": "2d9cffbd",
   "metadata": {},
   "outputs": [
    {
     "data": {
      "text/plain": [
       "{('A', 'C'): 2}"
      ]
     },
     "execution_count": 40,
     "metadata": {},
     "output_type": "execute_result"
    }
   ],
   "source": [
    "L2 = generate_L2(C2,min_support)\n",
    "L2"
   ]
  },
  {
   "cell_type": "code",
   "execution_count": 41,
   "id": "32fa0543",
   "metadata": {},
   "outputs": [],
   "source": [
    "L1_1 = {}\n",
    "for x in L1.keys():\n",
    "    value = L1[x]\n",
    "    t_i = tuple(x)\n",
    "    L1_1[t_i] = value"
   ]
  },
  {
   "cell_type": "code",
   "execution_count": 43,
   "id": "0576c528",
   "metadata": {},
   "outputs": [
    {
     "data": {
      "text/plain": [
       "{('A',): 3, ('B',): 2, ('C',): 2}"
      ]
     },
     "execution_count": 43,
     "metadata": {},
     "output_type": "execute_result"
    }
   ],
   "source": [
    "L1_1"
   ]
  },
  {
   "cell_type": "code",
   "execution_count": 47,
   "id": "4b6dbded",
   "metadata": {},
   "outputs": [],
   "source": [
    "# This function is to generate rules from the itemsets of two items.\n",
    "def generate_L2_rules(L2, L1_1):\n",
    "    for x in L2.keys():\n",
    "        print(x)\n",
    "        print(x[0] + \" => \" + x[1])\n",
    "        rule = x[0] + \" => \" + x[1]\n",
    "        print(L1_1[tuple(x[0])])\n",
    "        print(L1_1[tuple(x[1])])\n",
    "        print(\"%s ( %d/%d ) %.2f \"%(rule, L2[x],L1_1[tuple(x[0])], float(L2[x])/float(L1_1[tuple(x[0])]) ))\n",
    "        print(round(float(L2[x])/float(L1_1[tuple(x[0])])), 2)\n",
    "        print(\"---\")\n",
    "    for x in L2.keys():\n",
    "        print(x)\n",
    "        print(x[1] + \" => \" + x[0])\n",
    "        rule = x[1] + \" => \" + x[0]\n",
    "        print(L1_1[tuple(x[0])])\n",
    "        print(L1_1[tuple(x[1])])\n",
    "        print(\"%s ( %d/%d ) %.2f \"%(rule, L2[x],L1_1[tuple(x[1])],float(L2[x])/float(L1_1[tuple(x[1])])  ))\n",
    "        print(float(L2[x])/float(L1_1[tuple(x[1])]))\n",
    "        print(\"---\")"
   ]
  },
  {
   "cell_type": "code",
   "execution_count": 48,
   "id": "fc0b00d6",
   "metadata": {},
   "outputs": [
    {
     "name": "stdout",
     "output_type": "stream",
     "text": [
      "('A', 'C')\n",
      "A => C\n",
      "3\n",
      "2\n",
      "A => C ( 2/3 ) 0.67 \n",
      "1 2\n",
      "---\n",
      "('A', 'C')\n",
      "C => A\n",
      "3\n",
      "2\n",
      "C => A ( 2/2 ) 1.00 \n",
      "1.0\n",
      "---\n"
     ]
    }
   ],
   "source": [
    "generate_L2_rules(L2,L1_1)"
   ]
  },
  {
   "cell_type": "code",
   "execution_count": null,
   "id": "f1c4cd8f",
   "metadata": {},
   "outputs": [],
   "source": []
  }
 ],
 "metadata": {
  "kernelspec": {
   "display_name": "Python 3",
   "language": "python",
   "name": "python3"
  },
  "language_info": {
   "codemirror_mode": {
    "name": "ipython",
    "version": 3
   },
   "file_extension": ".py",
   "mimetype": "text/x-python",
   "name": "python",
   "nbconvert_exporter": "python",
   "pygments_lexer": "ipython3",
   "version": "3.12.10"
  }
 },
 "nbformat": 4,
 "nbformat_minor": 5
}
